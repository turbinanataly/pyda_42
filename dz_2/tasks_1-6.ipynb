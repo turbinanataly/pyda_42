{
 "cells": [
  {
   "cell_type": "markdown",
   "id": "58504005",
   "metadata": {},
   "source": [
    "# Задание 1 "
   ]
  },
  {
   "cell_type": "markdown",
   "id": "d2846095",
   "metadata": {},
   "source": [
    "Дана переменная, в которой хранится слово из латинских букв. Напишите код, который выводит на экран:\n",
    "\n",
    "- среднюю букву, если число букв в слове нечетное;\n",
    "- две средних буквы, если число букв четное."
   ]
  },
  {
   "cell_type": "code",
   "execution_count": null,
   "id": "4550c39f",
   "metadata": {},
   "outputs": [],
   "source": [
    "word = input(\"Введите слово: \")\n",
    "\n",
    "length = len(word)\n",
    "\n",
    "if length == 0:\n",
    "    print(\"Пустое слово\")\n",
    "elif length % 2 == 0:\n",
    "    print(word[(length // 2) - 1: (length // 2) + 1])\n",
    "else:\n",
    "    print(word[length // 2])\n",
    "    "
   ]
  },
  {
   "cell_type": "markdown",
   "id": "0c7f9aea",
   "metadata": {},
   "source": [
    "# Задание 2"
   ]
  },
  {
   "cell_type": "markdown",
   "id": "d414eed7",
   "metadata": {},
   "source": [
    "Напишите программу, которая последовательно запрашивает у пользователя числа (по одному за раз) и после первого нуля выводит сумму всех ранее введенных чисел."
   ]
  },
  {
   "cell_type": "code",
   "execution_count": null,
   "id": "0816b2f6",
   "metadata": {},
   "outputs": [],
   "source": [
    "sum_of_numbers = 0\n",
    "\n",
    "while True:\n",
    "    number = int(input(\"Введите число: \"))\n",
    "    if number != 0:\n",
    "        sum_of_numbers += number\n",
    "    else:\n",
    "        break\n",
    "    \n",
    "print(f\"Сумма числел = {sum_of_numbers}\")"
   ]
  },
  {
   "cell_type": "markdown",
   "id": "f4b5ad07",
   "metadata": {},
   "source": [
    "# Задание 3"
   ]
  },
  {
   "cell_type": "markdown",
   "id": "a7d32447",
   "metadata": {},
   "source": [
    "Мы делаем MVP dating-сервиса, и у нас есть список парней и девушек.\n",
    "Выдвигаем гипотезу: лучшие рекомендации мы получим, если просто отсортируем имена по алфавиту и познакомим людей с одинаковыми индексами после сортировки! Но мы не будем никого знакомить, если кто-то может остаться без пары:"
   ]
  },
  {
   "cell_type": "code",
   "execution_count": null,
   "id": "66583729",
   "metadata": {},
   "outputs": [],
   "source": [
    "boys = ['Peter', 'Alex', 'John', 'Arthur', 'Richard']\n",
    "girls = ['Kate', 'Liza', 'Kira', 'Emma', 'Trisha']\n",
    "\n",
    "#boys = ['Peter', 'Alex', 'John', 'Arthur', 'Richard', 'Michael']\n",
    "#girls = ['Kate', 'Liza', 'Kira', 'Emma', 'Trisha']\n",
    "\n",
    "#boys = []\n",
    "#girls = []\n",
    "\n",
    "#boys = ['Peter', 'Alex']\n",
    "#girls = []\n",
    "\n",
    "if len(boys) == 0 and len(girls) == 0:\n",
    "    print(\"Еще никто не зарегистрировался!\")\n",
    "    \n",
    "elif len(boys) == len(girls):\n",
    "    boys.sort()\n",
    "    girls.sort()\n",
    "    \n",
    "    print(\"Идеальные пары: \")\n",
    "    \n",
    "    for boy, girl in zip(boys, girls):\n",
    "        print(f\"{boy} и {girl}\")\n",
    "    \n",
    "else:\n",
    "    print(\"Внимание, кто-то может остаться без пары!\")"
   ]
  },
  {
   "cell_type": "markdown",
   "id": "e39fbad4",
   "metadata": {},
   "source": [
    "# Задание 4 "
   ]
  },
  {
   "cell_type": "markdown",
   "id": "2a160dbf",
   "metadata": {},
   "source": [
    "У нас есть список, содержащий информацию о среднедневной температуре в Фаренгейтах за произвольный период по странам (структура данных в примере). Необходимо написать код, который рассчитает среднюю температуру за период в Цельсиях(!) для каждой страны."
   ]
  },
  {
   "cell_type": "code",
   "execution_count": null,
   "id": "ee4be273",
   "metadata": {},
   "outputs": [],
   "source": [
    "# countries_temperature_f = []\n",
    "\n",
    "# countries_temperature_f = [\n",
    "#     ['Таиланд', [75.2, 77, 78.8, 73.4, 68, 75.2, 77]],\n",
    "#     ['Германия', []],\n",
    "#     ['Россия', [35.6, 37.4, 39.2, 41, 42.8, 39.2, 35.6]],\n",
    "#     ['Польша', [50, 50, 53.6, 57.2, 55.4, 55.4]]\n",
    "# ]\n",
    "\n",
    "countries_temperature_f = [\n",
    "    ['Таиланд', [75.2, 77, 78.8, 73.4, 68, 75.2, 77]],\n",
    "    ['Германия', [57.2, 55.4, 59, 59, 53.6]],\n",
    "    ['Россия', [35.6, 37.4, 39.2, 41, 42.8, 39.2, 35.6]],\n",
    "    ['Польша', [50, 50, 53.6, 57.2, 55.4, 55.4]]\n",
    "]\n",
    "\n",
    "#℃ = (℉ - 32) / 1.8 =>\n",
    "#℃1 + ℃2 = ((℉1 - 32) / 1.8) + ((℉2 - 32) / 1.8) = ((℉1 - 32) + (℉2 - 32)) / 1.8 = (℉1 + ℉2 - 2*32) / 1.8 =>\n",
    "# ℃average = (℃1 + ... + ℃k) /  k = ((℉1 + .. + ℉k - k*32) / 1.8) / k = (℉1 + .. + ℉k - k*32) / k*1.8 \n",
    "\n",
    "if len(countries_temperature_f) != 0:\n",
    "    print(\"Средняя температура в странах: \")\n",
    "    \n",
    "    for country, temperatures_f in countries_temperature_f:\n",
    "        \n",
    "        count_temperatures = len(temperatures_f)\n",
    "        \n",
    "        if count_temperatures == 0:\n",
    "            print(f\"{country}  -  нет данных по температуре\")\n",
    "        else:\n",
    "            sum_temperature_f = sum(temperatures_f)\n",
    "            average_temperature_c = (sum_temperature_f - (count_temperatures * 32)) / (count_temperatures * 1.8)\n",
    "    \n",
    "            print(f\"{country}  -  {round(average_temperature_c, 1)} С\")\n",
    "else:\n",
    "    print(\"Пустые исходные данные\")"
   ]
  },
  {
   "cell_type": "markdown",
   "id": "ad1350d4",
   "metadata": {},
   "source": [
    "# Задание 5"
   ]
  },
  {
   "cell_type": "markdown",
   "id": "8686a103",
   "metadata": {},
   "source": [
    "Имеется список с транспортными номерами. Необходимо написать код, который проверит каждый номер на валидность (1 буква, 3 цифры, 2 буквы, 2-3 цифры). Обратите внимание, что не все буквы кириллического алфавита используются в транспортных номерах.\n",
    "\n",
    "Если номер валиден, то вывести его в нужном формавте (пример ниже), а если не валиден — вывести текст. При решении помогут регулярные выражения, с которыми будет знакомство на практике."
   ]
  },
  {
   "cell_type": "code",
   "execution_count": null,
   "id": "292a5551",
   "metadata": {},
   "outputs": [],
   "source": [
    "import re\n",
    "\n",
    "car_ids = ['А222ВС96', 'АБ22ВВ193']\n",
    "pattern = r'^[АВЕКМНОРСТУХ]\\d{3}[АВЕКМНОРСТУХ]{2}(\\d{2,3}$)'\n",
    "\n",
    "for car_id in car_ids:\n",
    "    res = re.search(pattern,car_id)\n",
    "    if res: \n",
    "        print(f'Номер {res.group()} валиден. Регион: {res.group(1)}')\n",
    "    else:\n",
    "        print(f'Номер {car_id} не валиден')\n",
    "\n"
   ]
  },
  {
   "cell_type": "markdown",
   "id": "0c8b399f",
   "metadata": {},
   "source": [
    "# Задание 6 "
   ]
  },
  {
   "cell_type": "markdown",
   "id": "24e922e5",
   "metadata": {},
   "source": [
    "Дан поток логов по количеству просмотренных страниц для каждого пользователя (пользователь,дата;просмотры). Вам необходимо написать алгоритм, который считает среднее значение просмотров на пользователя. Т. е. надо посчитать отношение суммы всех просмотров к количеству уникальных пользователей. И тут регулярные выражения облегчат немного реализацию."
   ]
  },
  {
   "cell_type": "code",
   "execution_count": null,
   "id": "b57bb55d",
   "metadata": {},
   "outputs": [],
   "source": [
    "import re\n",
    "\n",
    "# stream = [\n",
    "#     'user4,2021-01-01;3',\n",
    "#     'user3,2022-01-07;4',\n",
    "#     'user2,2022-03-29;1',\n",
    "#     'user1,2020-04-04;13',\n",
    "#     'user2,2022-01-05;7',\n",
    "#     'user1,2021-06-14;4',\n",
    "#     'user3,2022-07-02;10',\n",
    "#     'user4,2021-03-21;19',\n",
    "#     'user4,2022-03-22;4',\n",
    "#     'user4,2022-04-22;8',\n",
    "#     'user4,2021-05-03;9',\n",
    "#     'user4,2022-05-11;11'\n",
    "# ]\n",
    "\n",
    "stream = [\n",
    "    'user100,2022-01-01;150',\n",
    "    'user99,2022-01-07;205',\n",
    "    'user1001,2022-03-29;81'\n",
    "]\n",
    "\n",
    "users = []\n",
    "all_views = 0\n",
    "\n",
    "for line in stream:\n",
    "    user, date, views = re.split(r'[,;]', line)\n",
    "    if user not in users:\n",
    "        users.append(user)\n",
    "    \n",
    "    all_views += int(views)\n",
    "        \n",
    "print(f'Среднее количество просмотров на уникального пользователя: {(all_views / len(users)):.2f}')\n",
    "    "
   ]
  }
 ],
 "metadata": {
  "kernelspec": {
   "display_name": "Python 3 (ipykernel)",
   "language": "python",
   "name": "python3"
  },
  "language_info": {
   "codemirror_mode": {
    "name": "ipython",
    "version": 3
   },
   "file_extension": ".py",
   "mimetype": "text/x-python",
   "name": "python",
   "nbconvert_exporter": "python",
   "pygments_lexer": "ipython3",
   "version": "3.9.13"
  }
 },
 "nbformat": 4,
 "nbformat_minor": 5
}
