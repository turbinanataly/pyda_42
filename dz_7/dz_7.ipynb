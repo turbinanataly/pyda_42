{
 "cells": [
  {
   "cell_type": "markdown",
   "id": "cb98eaa5",
   "metadata": {},
   "source": [
    "# Задание 1"
   ]
  },
  {
   "cell_type": "markdown",
   "id": "e793437e",
   "metadata": {},
   "source": [
    "Напишите функцию, которая возвращает название валюты (поле ‘Name’) с максимальным значением курса с помощью сервиса https://www.cbr-xml-daily.ru/daily_json.js"
   ]
  },
  {
   "cell_type": "code",
   "execution_count": null,
   "id": "1e8727cd",
   "metadata": {
    "scrolled": true
   },
   "outputs": [],
   "source": [
    "from libs.exchange import Rate\n",
    "\n",
    "class RateExtension(Rate):\n",
    "    \n",
    "    def rate_with_max_value(self):\n",
    "        '''\n",
    "        Возвращает название валюты с максимальным значением курса\n",
    "        '''\n",
    "        valute_list = list(self.exchange_rates().values())\n",
    "        \n",
    "        if valute_list is None or len(valute_list) == 0:\n",
    "            return None\n",
    "        \n",
    "        valute_list.sort(key=lambda x: x['Value'], reverse=True)    \n",
    "        return valute_list[0]['Name']\n",
    "            \n",
    "re = RateExtension()\n",
    "print(re.rate_with_max_value())\n"
   ]
  },
  {
   "cell_type": "markdown",
   "id": "75abeb48",
   "metadata": {},
   "source": [
    "# Задание 2"
   ]
  },
  {
   "cell_type": "markdown",
   "id": "0698c019",
   "metadata": {},
   "source": [
    "Добавьте в класс Rate параметр diff (со значениями True или False), который в случае значения True в методах курсов валют (eur, usd итд) будет возвращать не курс валюты, а изменение по сравнению в прошлым значением. Считайте, self.diff будет принимать значение True только при возврате значения курса. При отображении всей информации о валюте он не используется."
   ]
  },
  {
   "cell_type": "code",
   "execution_count": null,
   "id": "be3c7f22",
   "metadata": {},
   "outputs": [],
   "source": [
    "from libs.exchange import Rate\n",
    "\n",
    "class RateExtension(Rate):\n",
    "    def __init__(self, format='value', diff=False):\n",
    "        super().__init__(format=format)\n",
    "        self.diff = diff if format == 'value' else False\n",
    "    \n",
    "    def make_format(self, currency):\n",
    "        \"\"\"\n",
    "        Возвращает информацию о валюте currency в трех вариантах:\n",
    "        - полная информация о валюте при self.format = 'full':\n",
    "        - только курс валюты при self.format = 'value' и self.diff = False\n",
    "        - только изменение курса валюты по сравнению в прошлым значением\n",
    "        \"\"\"\n",
    "        response = self.exchange_rates()\n",
    "        \n",
    "        if currency in response:\n",
    "            if self.format == 'full':\n",
    "                return response[currency]\n",
    "            \n",
    "            if self.format == 'value':\n",
    "                \n",
    "                if self.diff:\n",
    "                    value_diff = float(response[currency]['Value']) - float(response[currency]['Previous'])\n",
    "                    return f'{value_diff:.2}'\n",
    "                else:\n",
    "                    return response[currency]['Value']\n",
    "        \n",
    "        return 'Error'\n",
    "\n",
    "re = RateExtension(format='full')\n",
    "print(re.usd())\n",
    "\n",
    "re = RateExtension(format='full', diff=True)\n",
    "print(re.usd())\n",
    "\n",
    "re = RateExtension()\n",
    "print(re.usd())\n",
    "\n",
    "re = RateExtension(diff=True)\n",
    "print(re.usd())"
   ]
  },
  {
   "cell_type": "markdown",
   "id": "40a41f28",
   "metadata": {},
   "source": [
    "# Задание 3"
   ]
  },
  {
   "cell_type": "markdown",
   "id": "921049ed",
   "metadata": {},
   "source": [
    "Напишите класс Designer, который учитывает количество международных премий. Подсказки в коде занятия в разделе “Домашнее задание задача 3”.\n",
    "\n",
    "Комментарий по классу Designer такой:\n",
    "Напишите класс Designer, который учитывает количество международных премий для дизайнеров (из презентации: “Повышение на 1 грейд за каждые 7 баллов. Получение международной премии – это +2 балла”). Считайте, что при выходе на работу сотрудник уже имеет две премии и их количество не меняется со стажем (конечно если хотите это можно вручную менять).\n",
    "\n",
    "Класс Designer пишется по аналогии с классом Developer из материалов занятия."
   ]
  },
  {
   "cell_type": "code",
   "execution_count": null,
   "id": "e18d357c",
   "metadata": {},
   "outputs": [],
   "source": [
    "class Employee:\n",
    "    def __init__(self, name, seniority):\n",
    "        self.name = name\n",
    "        self.seniority = seniority\n",
    "        \n",
    "        self.grade = 1\n",
    "        self.update_grade()\n",
    "    \n",
    "    def grade_up(self):\n",
    "        \"\"\"Повышает уровень сотрудника\"\"\"\n",
    "        self.grade += 1\n",
    "    \n",
    "    def update_grade(self):\n",
    "        \"\"\"Обновляет уровень сотрудника\"\"\"\n",
    "        self.grade = self.seniority // self.seniority_for_grade() + 1\n",
    "    \n",
    "    def publish_grade(self):\n",
    "        \"\"\"Публикация результатов аккредитации сотрудников\"\"\"\n",
    "        print(self.name, self.grade)\n",
    "    \n",
    "    def seniority_for_grade(self):\n",
    "        pass\n",
    "    \n",
    "    def check_if_it_is_time_for_upgrade(self):\n",
    "        # для каждой аккредитации увеличиваем счетчик на 1\n",
    "        # пока считаем, что все дизайнеры проходят аккредитацию\n",
    "        self.seniority += 1\n",
    "        self.update_grade()\n",
    "\n",
    "        # публикация результатов\n",
    "        return self.publish_grade()"
   ]
  },
  {
   "cell_type": "code",
   "execution_count": null,
   "id": "da90a8f8",
   "metadata": {},
   "outputs": [],
   "source": [
    "class Designer(Employee):\n",
    "    def __init__(self, name, seniority, award_count=2):\n",
    "        super().__init__(name, seniority)\n",
    "        self.award_count = award_count\n",
    "        self.count_seniority_for_grade = 5\n",
    "        self.seniority += award_count * 2\n",
    "        self.update_grade()\n",
    "        \n",
    "    def receive_award(self):\n",
    "        self.seniority += 2\n",
    "        self.update_grade()\n",
    "        \n",
    "        # публикация результатов\n",
    "        return self.publish_grade()\n",
    "    \n",
    "    def seniority_for_grade(self):\n",
    "        return 7"
   ]
  },
  {
   "cell_type": "code",
   "execution_count": null,
   "id": "4322beb0",
   "metadata": {},
   "outputs": [],
   "source": [
    "class Developer(Employee):\n",
    "    def __init__(self, name, seniority):\n",
    "        super().__init__(name, seniority)\n",
    "    \n",
    "    def seniority_for_grade(self):\n",
    "        return 5"
   ]
  },
  {
   "cell_type": "code",
   "execution_count": null,
   "id": "cf671ca4",
   "metadata": {},
   "outputs": [],
   "source": [
    "dis = Designer('Nataly', 5)\n",
    "print(dis.seniority)\n",
    "\n",
    "dis.check_if_it_is_time_for_upgrade()\n",
    "print(dis.seniority)\n",
    "\n",
    "dis.receive_award()\n",
    "print(dis.seniority)\n",
    "\n",
    "for i in range(14):\n",
    "    dis.check_if_it_is_time_for_upgrade()"
   ]
  },
  {
   "cell_type": "code",
   "execution_count": null,
   "id": "c0041e20",
   "metadata": {},
   "outputs": [],
   "source": [
    "alex = Developer('Александр', 0)\n",
    "    \n",
    "for i in range(20):\n",
    "    alex.check_if_it_is_time_for_upgrade()"
   ]
  }
 ],
 "metadata": {
  "kernelspec": {
   "display_name": "Python 3 (ipykernel)",
   "language": "python",
   "name": "python3"
  },
  "language_info": {
   "codemirror_mode": {
    "name": "ipython",
    "version": 3
   },
   "file_extension": ".py",
   "mimetype": "text/x-python",
   "name": "python",
   "nbconvert_exporter": "python",
   "pygments_lexer": "ipython3",
   "version": "3.9.13"
  }
 },
 "nbformat": 4,
 "nbformat_minor": 5
}
