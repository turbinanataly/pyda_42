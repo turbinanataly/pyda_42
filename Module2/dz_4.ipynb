{
 "cells": [
  {
   "cell_type": "markdown",
   "id": "0a85b53c",
   "metadata": {},
   "source": [
    "# Задание1"
   ]
  },
  {
   "cell_type": "markdown",
   "id": "08953669",
   "metadata": {},
   "source": [
    "Для датафрейма log из материалов занятия создайте столбец source_type по правилам:\n",
    "\n",
    "* если источник traffic_source равен Yandex или Google, то в source_type ставится organic;\n",
    "* для источников paid и email из России ставим ad;\n",
    "* для источников paid и email не из России ставим other;\n",
    "* все остальные варианты берём из traffic_source без изменений."
   ]
  },
  {
   "cell_type": "code",
   "execution_count": null,
   "id": "b72abe6c",
   "metadata": {},
   "outputs": [],
   "source": [
    "import pandas as pd\n",
    "\n",
    "log = pd.read_csv(r'dop\\visit_log.csv', sep=';')\n",
    "\n",
    "#если источник traffic_source равен Yandex или Google, то в source_type ставится organic\n",
    "log.loc[log.traffic_source.str.contains('yandex|google'),'source_type'] = 'organic'\n",
    "\n",
    "#для источников paid и email из России ставим ad\n",
    "log.loc[(log.traffic_source.str.contains('paid|email')) & (log.region == 'Russia'),'source_type'] = 'ad'\n",
    "\n",
    "#для источников paid и email не из России ставим other\n",
    "log.loc[(log.traffic_source.str.contains('paid|email')) & (log.region != 'Russia'),'source_type'] = 'other'\n",
    "\n",
    "log.loc[pd.isna(log.source_type),'source_type'] = log['traffic_source']"
   ]
  },
  {
   "cell_type": "markdown",
   "id": "30e886b6",
   "metadata": {},
   "source": [
    "# Задание 2 "
   ]
  },
  {
   "cell_type": "markdown",
   "id": "da8e9383",
   "metadata": {},
   "source": [
    "В файле URLs.txt содержатся URL страниц новостного сайта. Вам нужно отфильтровать его по адресам страниц с текстами новостей. Известно, что шаблон страницы новостей имеет внутри URL конструкцию: /, затем 8 цифр, затем дефис. Выполните действия:\n",
    "\n",
    "* Прочитайте содержимое файла с датафрейм.\n",
    "* Отфильтруйте страницы с текстом новостей, используя метод str.contains и регулярное выражение в соответствие с заданным шаблоном.\n"
   ]
  },
  {
   "cell_type": "code",
   "execution_count": null,
   "id": "e0d65d68",
   "metadata": {},
   "outputs": [],
   "source": [
    "import pandas as pd\n",
    "\n",
    "urls = pd.read_table(r'dop\\URLs.txt')\n",
    "urls = urls[urls.url.str.contains(r'/\\d{8}-')]"
   ]
  },
  {
   "cell_type": "markdown",
   "id": "61983882",
   "metadata": {},
   "source": [
    "# Задание 3 "
   ]
  },
  {
   "cell_type": "markdown",
   "id": "68de2255",
   "metadata": {},
   "source": [
    "Используйте файл с оценками фильмов ml-latest-small/ratings.csv. Посчитайте среднее время жизни пользователей, которые выставили более 100 оценок. Под временем жизни понимается разница между максимальным и минимальным значениями столбца timestamp для данного значения userId."
   ]
  },
  {
   "cell_type": "code",
   "execution_count": null,
   "id": "833c121e",
   "metadata": {},
   "outputs": [],
   "source": [
    "import pandas as pd\n",
    "\n",
    "ratings = pd.read_csv(r\"ml-latest-small\\ratings.csv\")\n",
    "ratings.head()\n",
    "\n",
    "def get_timelife(timestamp):\n",
    "    min = timestamp.min()\n",
    "    max = timestamp.max()\n",
    "    \n",
    "    return (max - min);\n",
    "    \n",
    "timelife = ratings.groupby('userId').agg({'timestamp' : [get_timelife, 'count']})\n",
    "\n",
    "timelife[timelife['timestamp']['count'] > 100].timestamp.get_timelife.mean()\n"
   ]
  },
  {
   "cell_type": "markdown",
   "id": "b09e00f7",
   "metadata": {},
   "source": [
    "# Задание 4"
   ]
  },
  {
   "cell_type": "markdown",
   "id": "af11f25a",
   "metadata": {},
   "source": [
    "Дана статистика услуг перевозок клиентов компании по типам (см. файл “Python_13_join.ipynb” в разделе «Материалы для лекции “Продвинутый pandas”» ---- Ноутбуки к лекции «Продвинутый pandas»).\n",
    "Нужно сформировать две таблицы:\n",
    "\n",
    "* таблицу с тремя типами выручки для каждого client_id без указания адреса клиента;\n",
    "* аналогичную таблицу по типам выручки с указанием адреса клиента.\n",
    "\n",
    "\n",
    "Обратите внимание, что в процессе объединения таблиц данные не должны теряться.\n",
    "\n",
    "---\n",
    "\n",
    "Дана статистика услуг перевозок клиентов компании по типам:\n",
    "\n",
    "* rzd - железнодорожные перевозки\n",
    "* auto - автомобильные перевозки\n",
    "* air - воздушные перевозки\n",
    "* client_base - адреса клиентов"
   ]
  },
  {
   "cell_type": "code",
   "execution_count": null,
   "id": "90e410a1",
   "metadata": {},
   "outputs": [],
   "source": [
    "rzd = pd.DataFrame(\n",
    "    {\n",
    "        'client_id': [111, 112, 113, 114, 115],\n",
    "        'rzd_revenue': [1093, 2810, 10283, 5774, 981]\n",
    "    }\n",
    ")\n",
    "\n",
    "auto = pd.DataFrame(\n",
    "    {\n",
    "        'client_id': [113, 114, 115, 116, 117],\n",
    "        'auto_revenue': [57483, 83, 912, 4834, 98]\n",
    "    }\n",
    ")\n",
    "\n",
    "air = pd.DataFrame(\n",
    "    {\n",
    "        'client_id': [115, 116, 117, 118],\n",
    "        'air_revenue': [81, 4, 13, 173]\n",
    "    }\n",
    ")\n",
    "\n",
    "client_base = pd.DataFrame(\n",
    "    {\n",
    "        'client_id': [111, 112, 113, 114, 115, 116, 117, 118],\n",
    "        'address': ['Комсомольская 4', 'Энтузиастов 8а', 'Левобережная 1а', 'Мира 14', 'ЗЖБИиДК 1', \n",
    "                    'Строителей 18', 'Панфиловская 33', 'Мастеркова 4']\n",
    "    }\n",
    ")"
   ]
  },
  {
   "cell_type": "code",
   "execution_count": null,
   "id": "38ab202b",
   "metadata": {},
   "outputs": [],
   "source": [
    "import pandas as pd\n",
    "from functools import reduce\n",
    "\n",
    "revenue = reduce(lambda a, b: a.merge(b, how='outer', on='client_id'), [rzd, auto, air]).fillna(0)\n",
    "\n",
    "revenue_with_client_base = revenue.merge(client_base, how='outer', on='client_id')\n",
    "\n",
    "revenue_with_client_base"
   ]
  },
  {
   "cell_type": "code",
   "execution_count": null,
   "id": "9cf0d277",
   "metadata": {},
   "outputs": [],
   "source": [
    "# Способ без объединений\n",
    "\n",
    "import pandas as pd\n",
    "\n",
    "rzd.set_index('client_id', inplace=True)\n",
    "auto.set_index('client_id', inplace=True)\n",
    "air.set_index('client_id', inplace=True)\n",
    "\n",
    "revenue = pd.concat([rzd, auto, air], axis=1).fillna(0)\n",
    "\n",
    "revenue_with_client_base = revenue.merge(client_base, how='outer', on='client_id')\n",
    "\n",
    "revenue_with_client_base"
   ]
  }
 ],
 "metadata": {
  "kernelspec": {
   "display_name": "Python 3 (ipykernel)",
   "language": "python",
   "name": "python3"
  },
  "language_info": {
   "codemirror_mode": {
    "name": "ipython",
    "version": 3
   },
   "file_extension": ".py",
   "mimetype": "text/x-python",
   "name": "python",
   "nbconvert_exporter": "python",
   "pygments_lexer": "ipython3",
   "version": "3.9.13"
  }
 },
 "nbformat": 4,
 "nbformat_minor": 5
}
