{
 "cells": [
  {
   "cell_type": "markdown",
   "id": "4909d5c1",
   "metadata": {},
   "source": [
    "# Задание 1"
   ]
  },
  {
   "cell_type": "markdown",
   "id": "f9b11ab3",
   "metadata": {},
   "source": [
    "Скачайте с сайта датасет любого размера. Определите, какому фильму было выставлено больше всего оценок 5.0."
   ]
  },
  {
   "cell_type": "code",
   "execution_count": null,
   "id": "aa88d135",
   "metadata": {},
   "outputs": [],
   "source": [
    "import pandas as pd\n",
    "\n",
    "# Скачивала этот ахрив https://files.grouplens.org/datasets/movielens/ml-25m-README.html\n",
    "\n",
    "ratings = pd.read_csv(r'ml-25m\\ratings.csv')\n",
    "ratings.head()\n",
    "\n",
    "top_movieId = (ratings\n",
    "    .query('rating >= 5.0')\n",
    "    .groupby('movieId')\n",
    "     .count()\n",
    "     .sort_values('rating', ascending=False)).iloc[0].name\n",
    "\n",
    "movies = pd.read_csv(r'ml-25m\\movies.csv')\n",
    "movies.head()\n",
    "\n",
    "top_move = movies.query(f'movieId == {top_movieId}').iloc[0]\n",
    "\n",
    "print(f'У фильма {top_move[\"title\"]} больше всего оценок 5.0')\n"
   ]
  },
  {
   "cell_type": "markdown",
   "id": "786aeff7",
   "metadata": {},
   "source": [
    "# Задание 2 "
   ]
  },
  {
   "cell_type": "markdown",
   "id": "0d2aa702",
   "metadata": {},
   "source": [
    "По данным файла power.csv посчитайте суммарное потребление стран Прибалтики (Латвия, Литва и Эстония) категорий 4, 12 и 21 за период с 2005 по 2010 год. Не учитывайте в расчётах отрицательные значения quantity."
   ]
  },
  {
   "cell_type": "code",
   "execution_count": null,
   "id": "2bc821b4",
   "metadata": {},
   "outputs": [],
   "source": [
    "import pandas as pd\n",
    "\n",
    "power = pd.read_csv(r'data\\power.csv')\n",
    "power.head()\n",
    "\n",
    "quantity_sum = power[\n",
    "    (\n",
    "        power.country.str.contains(\"Latvia\", case=False)\n",
    "        | power.country.str.contains(\"Lithuania\", case=False)\n",
    "        | power.country.str.contains(\"Estonia\", case=False)\n",
    "    ) \n",
    "    & (power.category.isin([4, 12, 21]))\n",
    "    & (\n",
    "        (2005 <= power.year) \n",
    "        & (power.year < 2010)\n",
    "    )\n",
    "    & (power.quantity >= 0)\n",
    "]['quantity'].sum()\n",
    "\n",
    "print(f'Cуммарное потребление стран Прибалтики категорий 4, 12 и 21 за период с 2005 по 2010 год не вклчительно равно {quantity_sum}')"
   ]
  },
  {
   "cell_type": "markdown",
   "id": "d6a5a514",
   "metadata": {},
   "source": [
    "# Задание 3 "
   ]
  },
  {
   "cell_type": "markdown",
   "id": "532714e3",
   "metadata": {},
   "source": [
    "Выберите страницу любого сайта с табличными данными. Импортируйте таблицы в pandas DataFrame. Вы можете взять любые страницы.\n",
    "\n",
    "https://fortrader.org/quotes\n",
    "\n",
    "https://pythonworld.ru/tipy-dannyx-v-python/stroki-funkcii-i-metody-strok.html"
   ]
  },
  {
   "cell_type": "code",
   "execution_count": null,
   "id": "f6b3afdd",
   "metadata": {},
   "outputs": [],
   "source": [
    "import pandas as pd\n",
    "\n",
    "tables = pd.read_html(r'https://fortrader.org/quotes')\n",
    "tables[0]"
   ]
  }
 ],
 "metadata": {
  "kernelspec": {
   "display_name": "Python 3 (ipykernel)",
   "language": "python",
   "name": "python3"
  },
  "language_info": {
   "codemirror_mode": {
    "name": "ipython",
    "version": 3
   },
   "file_extension": ".py",
   "mimetype": "text/x-python",
   "name": "python",
   "nbconvert_exporter": "python",
   "pygments_lexer": "ipython3",
   "version": "3.9.13"
  }
 },
 "nbformat": 4,
 "nbformat_minor": 5
}
