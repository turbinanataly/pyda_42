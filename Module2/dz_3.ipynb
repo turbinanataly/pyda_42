{
 "cells": [
  {
   "cell_type": "markdown",
   "id": "2eba8bba",
   "metadata": {},
   "source": [
    "# Задание 1"
   ]
  },
  {
   "cell_type": "markdown",
   "id": "c31cefb2",
   "metadata": {},
   "source": [
    "Напишите функцию, которая классифицирует фильмы из материалов занятия по правилам:\n",
    "\n",
    "оценка 2 и ниже — низкий рейтинг;\n",
    "\n",
    "оценка 4 и ниже — средний рейтинг;\n",
    "\n",
    "оценка 4.5 и 5 — высокий рейтинг.\n",
    "\n",
    "Результат классификации запишите в столбец class."
   ]
  },
  {
   "cell_type": "code",
   "execution_count": null,
   "id": "6aae0e23",
   "metadata": {},
   "outputs": [],
   "source": [
    "import pandas as pd\n",
    "\n",
    "def get_category(ratings_group):\n",
    "    r_mean = ratings_group.rating.mean()\n",
    "    \n",
    "    if r_mean <= 2:\n",
    "        return 'низкий рейтинг'\n",
    "    elif r_mean <= 4:\n",
    "        return'средний рейтинг'\n",
    "    else:\n",
    "        return 'высокий рейтинг'\n",
    "\n",
    "    \n",
    "def get_movies_with_class(movies, ratings):\n",
    "    '''\n",
    "    Добавляет к фрейму movies колонку class c категорией среднего рейтинга \n",
    "    на основе данных из фрейма ratings \n",
    "    '''\n",
    "    means = ratings.groupby('movieId').apply(get_category)\n",
    "    means.name = \"class\"\n",
    "    return movies.set_index('movieId').join(means).reset_index()\n",
    "\n",
    "\n",
    "movies = pd.read_csv(r'ml-latest-small\\movies.csv')\n",
    "ratings = pd.read_csv(r'ml-latest-small\\ratings.csv')\n",
    "\n",
    "get_movies_with_class(movies, ratings)"
   ]
  },
  {
   "cell_type": "markdown",
   "id": "98c382a3",
   "metadata": {},
   "source": [
    "# Задание 2"
   ]
  },
  {
   "cell_type": "markdown",
   "id": "d45a02ee",
   "metadata": {},
   "source": [
    "Используйте файл keywords.csv.\n",
    "\n",
    "Нужно написать гео-классификатор, который каждой строке сможет выставить географическую принадлежность определённому региону. Т. е. если поисковый запрос содержит название города региона, то в столбце ‘region’ пишется название этого региона. Если поисковый запрос не содержит названия города, то ставим ‘undefined’.\n",
    "\n",
    "Правила распределения по регионам Центр, Северо-Запад и Дальний Восток:"
   ]
  },
  {
   "cell_type": "code",
   "execution_count": null,
   "id": "472d7eb7",
   "metadata": {},
   "outputs": [],
   "source": [
    "import pandas as pd\n",
    "\n",
    "geo_data = {\n",
    "'Центр': ['москва', 'тула', 'ярославль'],\n",
    "'Северо-Запад': ['петербург', 'псков', 'мурманск'],\n",
    "'Дальний Восток': ['владивосток', 'сахалин', 'хабаровск']\n",
    "}\n",
    "\n",
    "def try_get_region(keyword):\n",
    "    '''\n",
    "    Пробуем получить регион по вхождению города в поисковый запрос.\n",
    "    Только на основе определенных городов в geo_data.\n",
    "    '''\n",
    "    for key, values in geo_data.items():\n",
    "        for value in values:\n",
    "            if value in keyword:\n",
    "                return key\n",
    "            \n",
    "    return 'undefined'\n",
    "            \n",
    "\n",
    "keywords = pd.read_csv(r'ml-latest-small\\keywords.csv')\n",
    "\n",
    "keywords['region'] = keywords.keyword.apply(try_get_region)\n",
    "\n",
    "assert try_get_region('владивосток') == 'Дальний Восток'\n",
    "assert try_get_region('аа,псков ррр дд ') == 'Северо-Запад'\n",
    "assert try_get_region('') == 'undefined'\n",
    "assert try_get_region('Что то ороро') == 'undefined'"
   ]
  },
  {
   "cell_type": "markdown",
   "id": "286ca088",
   "metadata": {},
   "source": [
    "# Задание 3"
   ]
  },
  {
   "cell_type": "markdown",
   "id": "8b8d8338",
   "metadata": {},
   "source": [
    "Есть мнение, что раньше снимали настоящее кино, не то что сейчас. Ваша задача — проверить это утверждение, используя файлы с рейтингами фильмов из прошлого домашнего занятия: файл movies.csv и ratings.csv из базы. Нужно проверить, верно ли, что с ростом года выпуска фильма его средний рейтинг становится ниже.\n",
    "\n",
    "Вы не будете затрагивать субьективные факторы выставления этих рейтингов, а пройдётесь по алгоритму:\n",
    "\n",
    "1. В переменную years запишите список из всех годов с 1950 по 2010 года.\n",
    "\n",
    "2. Напишите функцию production_year, которая каждой строке из названия фильма выставляет год выпуска. Не все названия фильмов содержат год выпуска в одинаковом формате, поэтому используйте алгоритм:<br>\n",
    "\n",
    "    2.1 для каждой строки пройдите по всем годам списка years;<br>\n",
    "    \n",
    "    2.2 если номер года присутствует в названии фильма, то функция возвращает этот год, как год выпуска;<br>\n",
    "    \n",
    "    2.3 если ни один из номеров года списка years не встретился в названии фильма, то возвращается 1900 год.<br>\n",
    "\n",
    "\n",
    "3. Запишите год выпуска фильма по алгоритму пункта 2 в новый столбец ‘year’.\n",
    "\n",
    "4. Посчитайте средний рейтинг всех фильмов для каждого значения столбца ‘year’ и отсортируйте результат по убыванию рейтинга."
   ]
  },
  {
   "cell_type": "code",
   "execution_count": null,
   "id": "5ef7f35e",
   "metadata": {},
   "outputs": [],
   "source": [
    "import pandas as pd\n",
    "\n",
    "# (тут актуализирую даты из задания, для актуальной картины!!!)\n",
    "years = [str(year) for year in range(1950, 2024)]\n",
    "\n",
    "def production_year(title):\n",
    "    '''\n",
    "    Определяем год (в пределах с 1950 по 2023) из заголовка\n",
    "    В случае, если не смогли определеить - возвращаем 1900\n",
    "    '''\n",
    "    for year in years:\n",
    "        if year in title:\n",
    "            return year\n",
    "        \n",
    "    return '1900'\n",
    "\n",
    "movies = pd.read_csv(r'ml-25m\\movies.csv')\n",
    "movies['year'] = movies.title.apply(production_year)\n",
    "\n",
    "\n",
    "ratings = pd.read_csv(r'ml-latest-small\\ratings.csv')\n",
    "\n",
    "statistics = (ratings.set_index('movieId')\n",
    "    .join(movies.set_index('movieId'))\n",
    "    .groupby('year')\n",
    "    .apply(lambda group: group.rating.mean())\n",
    "    .sort_values(ascending=False)\n",
    "    .rename('rating', inplace=True)\n",
    "    .reset_index())\n",
    "\n",
    "statistics"
   ]
  },
  {
   "cell_type": "code",
   "execution_count": null,
   "id": "526eca6d",
   "metadata": {},
   "outputs": [],
   "source": []
  }
 ],
 "metadata": {
  "kernelspec": {
   "display_name": "Python 3 (ipykernel)",
   "language": "python",
   "name": "python3"
  },
  "language_info": {
   "codemirror_mode": {
    "name": "ipython",
    "version": 3
   },
   "file_extension": ".py",
   "mimetype": "text/x-python",
   "name": "python",
   "nbconvert_exporter": "python",
   "pygments_lexer": "ipython3",
   "version": "3.9.13"
  }
 },
 "nbformat": 4,
 "nbformat_minor": 5
}
