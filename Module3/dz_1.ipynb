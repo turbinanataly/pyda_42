{
 "cells": [
  {
   "cell_type": "markdown",
   "id": "3673c4c8",
   "metadata": {},
   "source": [
    "# Задание 1. Загрузка данных"
   ]
  },
  {
   "cell_type": "markdown",
   "id": "0aa6f626",
   "metadata": {},
   "source": [
    "Изучить представленный набор данных на основе описания его столбцов, загрузить его и оставить 8 столбцов для дальнейшего изучения: surgery?, Age, rectal temperature, pulse, respiratory rate, temperature of extremities, pain, outcome."
   ]
  },
  {
   "cell_type": "code",
   "execution_count": null,
   "id": "baf359ca",
   "metadata": {
    "scrolled": true
   },
   "outputs": [],
   "source": [
    "import pandas as pd\n",
    "import numpy as np\n",
    "\n",
    "# surgery? - column №1 (index 0)\n",
    "# age - №2 (index 1)\n",
    "# rectal temperature - №4 (index 3)\n",
    "# pulse - №5 (4)\n",
    "# respiratory rate - №6 (5)\n",
    "# temperature of extremities - №7 (6)\n",
    "# pain - №11 (10)\n",
    "# outcome - №23 (22)\n",
    "\n",
    "def tryInt(strValue):\n",
    "    try:\n",
    "        return int(strValue)\n",
    "    except:\n",
    "        return np.nan\n",
    "    \n",
    "horse_data_base = pd.read_csv(r'https://raw.githubusercontent.com/obulygin/pyda_homeworks/master/statistics_basics/horse_data.csv', header=None)\n",
    "\n",
    "horse_data = horse_data_base[[0, 1, 3, 4, 5, 6, 10, 22]]\n",
    "horse_data.columns = ['surgery', 'age', 'rectal_t', 'pulse', 'respiratory_rate', 't_of_extremities', 'pain', 'outcome']\n",
    "\n",
    "horse_data['surgery'] = pd.to_numeric(horse_data['surgery'], errors='coerce', downcast='integer')\n",
    "horse_data['age'] = pd.to_numeric(horse_data['age'], errors='coerce', downcast='integer')\n",
    "horse_data['rectal_t'] = pd.to_numeric(horse_data['rectal_t'], errors='coerce', downcast='integer')\n",
    "horse_data['pulse'] = pd.to_numeric(horse_data['pulse'], errors='coerce', downcast='integer')\n",
    "horse_data['respiratory_rate'] = pd.to_numeric(horse_data['respiratory_rate'], errors='coerce', downcast='integer')\n",
    "horse_data['t_of_extremities'] = pd.to_numeric(horse_data['t_of_extremities'], errors='coerce', downcast='integer')\n",
    "horse_data['pain'] = pd.to_numeric(horse_data['pain'], errors='coerce', downcast='integer')\n",
    "horse_data['outcome'] = pd.to_numeric(horse_data['outcome'], errors='coerce', downcast='integer')\n",
    "\n",
    "horse_data.info()"
   ]
  },
  {
   "cell_type": "markdown",
   "id": "6b97249a",
   "metadata": {},
   "source": [
    "# Задание 2. Первичное изучение данных"
   ]
  },
  {
   "cell_type": "markdown",
   "id": "00ad5c6f",
   "metadata": {},
   "source": [
    "Проанализировать значения по столбцам, рассчитать базовые статистики, найти выбросы."
   ]
  },
  {
   "cell_type": "code",
   "execution_count": null,
   "id": "640e8dee",
   "metadata": {},
   "outputs": [],
   "source": [
    "def statistics_сontinues_date(sr):\n",
    "    min_ = sr.min()\n",
    "    max_ = sr.max()\n",
    "    range_ = round(max_ - min_, 2)\n",
    "    disp = round(sr.var(), 2)\n",
    "    mean = round(sr.mean(), 2)\n",
    "    median = round(sr.quantile(), 2)\n",
    "    \n",
    "    print(f'min={min_}')\n",
    "    print(f'max={max_}')\n",
    "    print(f'range={range_}')\n",
    "    print(f'disp={disp}')\n",
    "    print(f'mean={mean}')\n",
    "    print(f'median={median}')\n",
    "    \n",
    "    iqr = sr.quantile(0.75) - sr.quantile(0.25)\n",
    "    lower_bound = round(sr.quantile(0.25) - (1.5 * iqr), 2)\n",
    "    upper_bound = round(sr.quantile(0.75) + (1.5 * iqr), 2)\n",
    "\n",
    "    outliers = [x for x in sr if x < lower_bound or x > upper_bound]\n",
    "    \n",
    "    print(f'lower_bound={lower_bound}')\n",
    "    print(f'upper_bound={upper_bound}')\n",
    "    print(f'iqr={round(iqr, 2)}')\n",
    "    print(f'outliers={outliers}')\n",
    "    print()\n",
    "          \n",
    "def statistics_nominal_date(sr):\n",
    "    mode = sr.mode()[0]\n",
    "    print(f'mode={mode}')\n",
    "    print()\n",
    "    \n",
    "def statistics_ordered_date(sr):\n",
    "    min_ = sr.min()\n",
    "    max_ = sr.max()\n",
    "    range_ = round(max_ - min_, 2)\n",
    "    disp = round(sr.var(), 2)\n",
    "    mean = round(sr.mean(), 2)\n",
    "    median = round(sr.quantile(), 2)\n",
    "    \n",
    "    print(f'min={min_}')\n",
    "    print(f'max={max_}')\n",
    "    print(f'range={range_}')\n",
    "    print(f'disp={disp}')\n",
    "    print(f'mean={mean}')\n",
    "    print(f'median={median}')\n",
    "    \n",
    "    mode = sr.mode()[0]\n",
    "    print(f'mode={mode}')\n",
    "    print()\n",
    "        \n",
    "# surgery - nominal \n",
    "print(f'surgery (nominal)')\n",
    "statistics_nominal_date(horse_data['surgery'])\n",
    "\n",
    "# age - nominal\n",
    "print(f'age (nominal)')\n",
    "statistics_nominal_date(horse_data['age'])\n",
    "\n",
    "# rectal_t - continues\n",
    "print(f'rectal_t (continues)')\n",
    "statistics_сontinues_date(horse_data['rectal_t'])\n",
    "\n",
    "# pulse - continues\n",
    "print(f'pulse (continues)')\n",
    "statistics_сontinues_date(horse_data['pulse'])\n",
    "\n",
    "# respiratory_rate - continues\n",
    "print(f'respiratory_rate (continues)')\n",
    "statistics_сontinues_date(horse_data['respiratory_rate'])\n",
    "\n",
    "# t_of_extremities - nominal (hot extremities should correlate with an elevated rectal_t.)\n",
    "print(f't_of_extremities (nominal)')\n",
    "statistics_nominal_date(horse_data['t_of_extremities'])\n",
    "\n",
    "# pain - nominal (ordered?)\n",
    "print(f'pain (ordered)')\n",
    "statistics_ordered_date(horse_data['pain'])\n",
    "\n",
    "# outcome - nominal\n",
    "print(f'outcome (nominal)')\n",
    "statistics_nominal_date(horse_data['outcome'])"
   ]
  },
  {
   "cell_type": "markdown",
   "id": "cc859a30",
   "metadata": {},
   "source": [
    "# Задание 3. Работа с пропусками"
   ]
  },
  {
   "cell_type": "markdown",
   "id": "a7fe42bc",
   "metadata": {},
   "source": [
    "Рассчитать количество пропусков для всех выбранных столбцов. Принять и обосновать решение о методе заполнения пропусков по каждому столбцу на основе рассчитанных статистик и возможной взаимосвязи значений в них. Сформировать датафрейм, в котором пропуски будут отсутствовать."
   ]
  },
  {
   "cell_type": "code",
   "execution_count": null,
   "id": "508c0fd8",
   "metadata": {
    "scrolled": true
   },
   "outputs": [],
   "source": [
    "horse_data.info()"
   ]
  },
  {
   "cell_type": "code",
   "execution_count": null,
   "id": "b0519bc0",
   "metadata": {},
   "outputs": [],
   "source": [
    "# surgery - nominal. 1 Nan значение - удалим строку.\n",
    "horse_data_clear = horse_data[horse_data.surgery.notna()]\n",
    "# age - nominal. 0 NaN значений - ничего не делаем.\n",
    "# outcome - nominal. 1 NaN значение - удалим строку (но это та же строка, что и с surgery)\n",
    "horse_data_clear = horse_data_clear[horse_data_clear.outcome.notna()]\n",
    "\n",
    "# rectal_t - continues. Сувязана с t_of_extremities. NaN в обоих столбцах в 14 строках. Удалим их.\n",
    "horse_data_clear = horse_data_clear[horse_data_clear.rectal_t.notna() | horse_data_clear.t_of_extremities.notna()]\n",
    "\n",
    "# Далее посчитаем медину rectal_t для каждого значения t_of_extremities и заполним t_of_extremities медианными значениями\n",
    "horse_data_clear.rectal_t = horse_data_clear.rectal_t.fillna(horse_data_clear.groupby(['t_of_extremities']).rectal_t.transform('median'))\n",
    "\n",
    "# Далее посчитаем верхние границы rectal_t для каждого t_of_extremities. Видим, что по границам rectal_t \n",
    "# не вычислить t_of_extremities, но одно из значений встречается сильно чаще других. Заполним пропуски модой.\n",
    "# horse_data_clear.groupby(['t_of_extremities']).agg({'rectal_t' : ['min', 'max', 'mean', 'median']})\n",
    "# horse_data_clear.groupby(['t_of_extremities']).count()\n",
    "\n",
    "horse_data_clear.t_of_extremities = horse_data_clear.t_of_extremities.fillna(horse_data_clear.t_of_extremities.mode()[0])\n",
    "\n",
    "# respiratory_rate - continues. Имеет большой разброс значений и не показательный параметр. А так же имеет много пропусков. \n",
    "# Удалим столбец\n",
    "horse_data_clear = horse_data_clear.drop(columns='respiratory_rate') \n",
    "\n",
    "# pulse - nominal. Видим, что чем больше боль, чем выше пульс. Заполним пропуски медианой по групе боли.\n",
    "horse_data_clear.pulse = horse_data_clear.pulse.fillna(horse_data_clear.groupby(['pain']).pulse.transform('median'))\n",
    "\n",
    "# pain - не понятно, как вычислить. Есть связь с surgery и пульсом, но весьма не одназначная. Строк c NaN осталось 44. \n",
    "# Удалим эти строки\n",
    "\n",
    "horse_data_clear = horse_data_clear[horse_data_clear.pain.notna()]\n",
    "horse_data_clear.info()"
   ]
  }
 ],
 "metadata": {
  "kernelspec": {
   "display_name": "Python 3 (ipykernel)",
   "language": "python",
   "name": "python3"
  },
  "language_info": {
   "codemirror_mode": {
    "name": "ipython",
    "version": 3
   },
   "file_extension": ".py",
   "mimetype": "text/x-python",
   "name": "python",
   "nbconvert_exporter": "python",
   "pygments_lexer": "ipython3",
   "version": "3.9.13"
  }
 },
 "nbformat": 4,
 "nbformat_minor": 5
}
