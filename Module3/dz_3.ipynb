{
 "cells": [
  {
   "cell_type": "markdown",
   "id": "a2ba289c",
   "metadata": {},
   "source": [
    "# Задание  "
   ]
  },
  {
   "cell_type": "markdown",
   "id": "1406b31e",
   "metadata": {},
   "source": [
    "Смоделировать игру против лотерейного автомата типа “777”. Игрок платит 1 руб., после чего выпадает случайное целое число, равномерно распределенное от 0 до 999. При некоторых значениях числа игрок получает выигрыш.\n",
    "\n",
    "    777: 200 руб.\n",
    "    999: 100 руб.\n",
    "    555: 50 руб.\n",
    "    333: 15 руб.\n",
    "    111: 10 руб.\n",
    "    *77: 5 руб.\n",
    "    **7: 3 руб.\n",
    "    *00: 2 руб.\n",
    "    **0: 1 руб.\n",
    "\n",
    "Вопросы:\n",
    "\n",
    "- Выгодна ли игра игроку?\n",
    "- Сколько в среднем приобретает или теряет игрок за одну игру?"
   ]
  },
  {
   "cell_type": "code",
   "execution_count": 115,
   "id": "9fde7ff2",
   "metadata": {},
   "outputs": [
    {
     "name": "stdout",
     "output_type": "stream",
     "text": [
      "Баланс после 1000000 попыток -198658. Среднее изменение баланса за одну игру -0.198658.\n"
     ]
    }
   ],
   "source": [
    "import numpy as np\n",
    "\n",
    "trials = 1000000\n",
    "\n",
    "def calculate_winnings(number):\n",
    "    if number == 777:\n",
    "        return 200\n",
    "    elif number == 999:\n",
    "        return 100\n",
    "    elif number == 555:\n",
    "        return 50\n",
    "    elif number == 333:\n",
    "        return 15\n",
    "    elif number == 111:\n",
    "        return 10\n",
    "    elif number % 100 == 77:\n",
    "        return 5\n",
    "    elif number % 10 == 7:\n",
    "        return 3\n",
    "    elif number % 100 == 0:\n",
    "        return 2\n",
    "    elif number % 10 == 0:\n",
    "        return 1\n",
    "    else:\n",
    "        return 0\n",
    "    \n",
    "balance = 0\n",
    "    \n",
    "for i in range(trials):\n",
    "    number = np.random.randint(1000)\n",
    "    balance = balance - 1\n",
    "    balance = balance + calculate_winnings(number)\n",
    "    \n",
    "print(f'Баланс после {trials} попыток {balance}. Среднее изменение баланса за одну игру {balance / trials}.')\n",
    "# Игра не выгодна для игрока"
   ]
  },
  {
   "cell_type": "markdown",
   "id": "1067d04f",
   "metadata": {},
   "source": [
    "# Дополнитеоьное задание"
   ]
  },
  {
   "cell_type": "markdown",
   "id": "9e385bf8",
   "metadata": {},
   "source": [
    "Теоретически рассчитать средний выигрыш (проигрыш) и сравнить с результатами моделирования"
   ]
  },
  {
   "cell_type": "code",
   "execution_count": 113,
   "id": "4c3b10e6",
   "metadata": {},
   "outputs": [
    {
     "name": "stdout",
     "output_type": "stream",
     "text": [
      "Вероятность не выигрошных чисел 0.796\n",
      "Среднее изменение баласна за одну игру, посчитанное теоритически равно: -0.19999999999999996\n"
     ]
    }
   ],
   "source": [
    "# Всего результатов 1000 - это 100%, 1 вероятности. \n",
    "num_p_dict = {}\n",
    "\n",
    "# 777 (выигрыш 200). Такое чисто одно. p = 1/1000 = 0.001. Изменение баланса num = 200 - 1 = 199\n",
    "num_p_dict['777'] = { 'p': 0.001, 'num': 199 }\n",
    "\n",
    "# 999 (100). Такое число одно. \n",
    "num_p_dict['999'] = { 'p': 0.001, 'num': 99 }\n",
    "\n",
    "# 555 (50). Такое число одно.\n",
    "num_p_dict['555'] = { 'p': 0.001, 'num': 49 }\n",
    "\n",
    "# 333 (15). Такое число одно.\n",
    "num_p_dict['333'] = { 'p': 0.001, 'num': 14 }\n",
    "\n",
    "# 111 (10). Такое число одно.\n",
    "num_p_dict['111'] = { 'p': 0.001, 'num': 9 }\n",
    "\n",
    "# *77 (5). Таких чисел 10 и не учитываем 777 - получается 9. Вероятность 0.009\n",
    "num_p_dict['*77'] = { 'p': 0.009, 'num': 4 }\n",
    "\n",
    "# **7 (3). Таких чисел 100 и не учитываем 777 и 9 чисел *77 - получается 90. Вероятность 0.09\n",
    "num_p_dict['**7'] = { 'p': 0.09, 'num': 2 }\n",
    "\n",
    "# *00 (2). Таких чисел 10. Вероятность 0.01\n",
    "num_p_dict['*00'] = { 'p': 0.01, 'num': 1 }\n",
    "\n",
    "# **0 (1). Таких чисел 100 и не учитаваем 10 чисел *00. Получается 90. Вероятность 0.09\n",
    "num_p_dict['**0'] = { 'p': 0.09, 'num': 0 }\n",
    "\n",
    "# все остальные числа будут менять баланс -1, \n",
    "# а вероятность будет считаться как 1 - сумма вероятностей всехперечисленных выше\n",
    "\n",
    "other_p = 1\n",
    "average = 0\n",
    "\n",
    "for item in num_p_dict.values():\n",
    "    average = average + item['p']*item['num']\n",
    "    other_p = other_p - item['p']\n",
    "    \n",
    "average = average + other_p * (-1)\n",
    "print(f'Вероятность не выигрошных чисел {other_p}')\n",
    "print(f'Среднее изменение баласна за одну игру, посчитанное теоритически равно: {average}')\n",
    "\n",
    "# Результаты моделирования и теоритические расчеты примерно совпадают"
   ]
  }
 ],
 "metadata": {
  "kernelspec": {
   "display_name": "Python 3 (ipykernel)",
   "language": "python",
   "name": "python3"
  },
  "language_info": {
   "codemirror_mode": {
    "name": "ipython",
    "version": 3
   },
   "file_extension": ".py",
   "mimetype": "text/x-python",
   "name": "python",
   "nbconvert_exporter": "python",
   "pygments_lexer": "ipython3",
   "version": "3.9.13"
  }
 },
 "nbformat": 4,
 "nbformat_minor": 5
}
