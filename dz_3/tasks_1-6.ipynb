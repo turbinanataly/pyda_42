{
 "cells": [
  {
   "cell_type": "markdown",
   "id": "1b3920f9",
   "metadata": {},
   "source": [
    "# Задание 1"
   ]
  },
  {
   "cell_type": "markdown",
   "id": "a93be1c6",
   "metadata": {},
   "source": [
    "Дана переменная, в которой хранится словарь, содержащий гео-метки для каждого пользователя (пример структуры данных приведен ниже). Вам необходимо написать программу, которая выведет на экран множество уникальных гео-меток всех пользователей."
   ]
  },
  {
   "cell_type": "code",
   "execution_count": null,
   "id": "c373e5ba",
   "metadata": {},
   "outputs": [],
   "source": [
    "ids = {'user1': [213, 213, 213, 15, 213], \n",
    "       'user2': [54, 54, 119, 119, 119], \n",
    "       'user3': [213, 98, 98, 35]}\n",
    "\n",
    "print(set(sum([value for key, value in ids.items()], [])))\n"
   ]
  },
  {
   "cell_type": "markdown",
   "id": "20cb494b",
   "metadata": {},
   "source": [
    "# Задание 2"
   ]
  },
  {
   "cell_type": "markdown",
   "id": "4513df5b",
   "metadata": {},
   "source": [
    "Дана переменная, в которой хранится список поисковых запросов пользователя (пример структуры данных приведен ниже, но запросы потенциально могут быть любые). Вам необходимо написать программу, которая выведет на экран распределение количества слов в запросах в требуемом виде."
   ]
  },
  {
   "cell_type": "code",
   "execution_count": null,
   "id": "8a4fa523",
   "metadata": {},
   "outputs": [],
   "source": [
    "import re\n",
    "\n",
    "queries = [\n",
    "    'смотреть сериалы онлайн',\n",
    "    'новости спорта ! ',\n",
    "    'афиша кино',\n",
    "    'курс доллара',\n",
    "    'сериалы этим летом',\n",
    "    'курс по питону',\n",
    "    'сериалы про спорт',\n",
    "]\n",
    "\n",
    "statictics = {}\n",
    "\n",
    "for query in queries:\n",
    "    count_words = len(re.sub('[^\\w\\s]','',query.lower()).strip().split(' '))\n",
    "    statictics.setdefault(count_words, 0)\n",
    "    statictics[count_words] += 1;\n",
    "    \n",
    "for key, value in statictics.items():\n",
    "    print(f'Поисковых запросов, содержащих {key} слов(а): {(value / len(queries)) * 100: .2f}%')"
   ]
  },
  {
   "cell_type": "markdown",
   "id": "c7768e18",
   "metadata": {},
   "source": [
    "# Задание 3"
   ]
  },
  {
   "cell_type": "markdown",
   "id": "e38eb39d",
   "metadata": {},
   "source": [
    "Дана переменная, в которой хранится информация о затратах и доходе рекламных кампаний по различным источникам. Необходимо дополнить исходную структуру показателем ROI, который рассчитаем по формуле: (revenue / cost - 1) * 100"
   ]
  },
  {
   "cell_type": "code",
   "execution_count": null,
   "id": "a41819db",
   "metadata": {},
   "outputs": [],
   "source": [
    "results = {\n",
    "    'vk': {'revenue': 103, 'cost': 98},\n",
    "    'yandex': {'revenue': 179, 'cost': 153},\n",
    "    'facebook': {'revenue': 103, 'cost': 110},\n",
    "    'adwords': {'revenue': 35, 'cost': 34},\n",
    "    'twitter': {'revenue': 11, 'cost': 24},\n",
    "}\n",
    "\n",
    "for company, indicators in results.items():\n",
    "    indicators['ROI'] = round((indicators['revenue'] / indicators['cost'] - 1) * 100, 2)\n",
    "    \n",
    "print(results)\n"
   ]
  },
  {
   "cell_type": "markdown",
   "id": "bdb159fb",
   "metadata": {},
   "source": [
    "# Задание 4"
   ]
  },
  {
   "cell_type": "markdown",
   "id": "21f84c1b",
   "metadata": {},
   "source": [
    "Дана переменная, в которой хранится статистика рекламных каналов по объемам продаж (пример структуры данных приведен ниже). Напишите программу, которая возвращает название канала с максимальным объемом продаж."
   ]
  },
  {
   "cell_type": "code",
   "execution_count": null,
   "id": "7b2906ba",
   "metadata": {},
   "outputs": [],
   "source": [
    "stats = {'facebook': 55, 'yandex': 115, 'vk': 120, 'google': 99, 'email': 42, 'ok': 98}\n",
    "\n",
    "max_chanel = list(stats.keys())[0]\n",
    "\n",
    "for chanel, value in stats.items():\n",
    "    if value > stats[max_chanel]:\n",
    "        max_chanel = chanel\n",
    "        \n",
    "print(f'Максимальный объем продаж на рекламном канале: {max_chanel}')\n",
    "    "
   ]
  },
  {
   "cell_type": "code",
   "execution_count": null,
   "id": "52a966a8",
   "metadata": {},
   "outputs": [],
   "source": [
    "# c информцией со следующей темы\n",
    "\n",
    "stats = {'facebook': 55, 'yandex': 115, 'vk': 120, 'google': 99, 'email': 42, 'ok': 98}\n",
    "\n",
    "max_chanel = sorted(stats.items(), key=lambda stat: stat[1], reverse=True)[0][0]\n",
    "\n",
    "print(f'Максимальный объем продаж на рекламном канале: {max_chanel}')"
   ]
  },
  {
   "cell_type": "markdown",
   "id": "cf8a1996",
   "metadata": {},
   "source": [
    "# Задание 5"
   ]
  },
  {
   "cell_type": "markdown",
   "id": "77884fc2",
   "metadata": {},
   "source": [
    "Дан список произвольной длины. Необходимо написать код, который на основе исходного списка составит словарь такого уровня вложенности, какова длина исхондого списка."
   ]
  },
  {
   "cell_type": "code",
   "execution_count": null,
   "id": "3963e9ee",
   "metadata": {},
   "outputs": [],
   "source": [
    "my_list = ['2018-01-01', 'yandex', 'cpc', 100]\n",
    "#my_list = ['a', 'b', 'c', 'd', 'e', 'f']\n",
    "\n",
    "dict_res = my_list[-1]\n",
    "\n",
    "for item in reversed(my_list[:-1]):\n",
    "    dict_res = {item: dict_res} \n",
    "    \n",
    "print(dict_res)"
   ]
  },
  {
   "cell_type": "code",
   "execution_count": null,
   "id": "8d885258",
   "metadata": {},
   "outputs": [],
   "source": [
    "# c информацией со следующей темы\n",
    "\n",
    "from functools import reduce \n",
    "\n",
    "my_list = ['2018-01-01', 'yandex', 'cpc', 100]\n",
    "#my_list = ['a', 'b', 'c', 'd', 'e', 'f']\n",
    "\n",
    "reduce(lambda x, y: {y: x}, reversed(my_list))"
   ]
  },
  {
   "cell_type": "code",
   "execution_count": null,
   "id": "d4f2178c",
   "metadata": {},
   "outputs": [],
   "source": [
    "# c информацией со следующей темы\n",
    "\n",
    "my_list = ['2018-01-01', 'yandex', 'cpc', 100]\n",
    "#my_list = ['a', 'b', 'c', 'd', 'e', 'f']\n",
    "\n",
    "def recur(some_list):\n",
    "    if len(some_list) == 2:\n",
    "        return {some_list[0] : some_list[1]}\n",
    "    \n",
    "    return { some_list[0] : recur(some_list[1:]) }\n",
    "\n",
    "recur(my_list)"
   ]
  },
  {
   "cell_type": "markdown",
   "id": "7b0cba20",
   "metadata": {},
   "source": [
    "# Задание 6"
   ]
  },
  {
   "cell_type": "markdown",
   "id": "088da532",
   "metadata": {},
   "source": [
    "Дана книга рецептов с информацией о том, сколько ингредиентов нужно для приготовления блюда в расчете на одну порцию (пример данных представлен ниже).\n",
    "Напишите программу, которая будет запрашивать у пользователя количество порций для приготовления этих блюд и отображать информацию о суммарном количестве требуемых ингредиентов в указанном виде.\n",
    "Внимание! Одинаковые ингредиенты с разными размерностями нужно считать раздельно!"
   ]
  },
  {
   "cell_type": "code",
   "execution_count": null,
   "id": "136cf10f",
   "metadata": {},
   "outputs": [],
   "source": [
    "cook_book = {\n",
    "  'салат': [\n",
    "     {'ingridient_name': 'сыр', 'quantity': 50, 'measure': 'гр'},\n",
    "     {'ingridient_name': 'томаты', 'quantity': 2, 'measure': 'шт'},\n",
    "     {'ingridient_name': 'огурцы', 'quantity': 20, 'measure': 'гр'},\n",
    "     {'ingridient_name': 'маслины', 'quantity': 10, 'measure': 'гр'},\n",
    "     {'ingridient_name': 'оливковое масло', 'quantity': 20, 'measure': 'мл'},\n",
    "     {'ingridient_name': 'салат', 'quantity': 10, 'measure': 'гр'},\n",
    "     {'ingridient_name': 'перец', 'quantity': 20, 'measure': 'гр'}\n",
    "    ],\n",
    "  'пицца': [\n",
    "     {'ingridient_name': 'сыр', 'quantity': 20, 'measure': 'гр'},\n",
    "     {'ingridient_name': 'колбаса', 'quantity': 30, 'measure': 'гр'},\n",
    "     {'ingridient_name': 'бекон', 'quantity': 30, 'measure': 'гр'},\n",
    "     {'ingridient_name': 'оливки', 'quantity': 10, 'measure': 'гр'},\n",
    "     {'ingridient_name': 'томаты', 'quantity': 20, 'measure': 'гр'},\n",
    "     {'ingridient_name': 'тесто', 'quantity': 100, 'measure': 'гр'},   \n",
    "    ],\n",
    "  'лимонад': [\n",
    "     {'ingridient_name': 'лимон', 'quantity': 1, 'measure': 'шт'},\n",
    "     {'ingridient_name': 'вода', 'quantity': 200, 'measure': 'мл'},\n",
    "     {'ingridient_name': 'сахар', 'quantity': 10, 'measure': 'гр'},\n",
    "     {'ingridient_name': 'лайм', 'quantity': 20, 'measure': 'гр'},    \n",
    "    ]\n",
    "}\n",
    "\n",
    "\n",
    "count_person = int(input('Введите количество порций:  '))\n",
    "res_list = {}\n",
    "\n",
    "for item in sum(cook_book.values(), []):\n",
    "    res_list.setdefault((item['ingridient_name'], item['measure']), 0)\n",
    "    res_list[(item['ingridient_name'], item['measure'])] += item['quantity'] * count_person\n",
    "    \n",
    "print('Результат: ')\n",
    "for ingridient_info, quantity  in res_list.items():\n",
    "    print(f'{ingridient_info[0]}: {quantity} {ingridient_info[1]}')  \n"
   ]
  }
 ],
 "metadata": {
  "kernelspec": {
   "display_name": "Python 3 (ipykernel)",
   "language": "python",
   "name": "python3"
  },
  "language_info": {
   "codemirror_mode": {
    "name": "ipython",
    "version": 3
   },
   "file_extension": ".py",
   "mimetype": "text/x-python",
   "name": "python",
   "nbconvert_exporter": "python",
   "pygments_lexer": "ipython3",
   "version": "3.9.13"
  }
 },
 "nbformat": 4,
 "nbformat_minor": 5
}
