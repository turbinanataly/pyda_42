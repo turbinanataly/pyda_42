{
 "cells": [
  {
   "cell_type": "markdown",
   "metadata": {},
   "source": [
    "## Лабораторная работа по курсу «Основы Python»"
   ]
  },
  {
   "cell_type": "markdown",
   "metadata": {},
   "source": [
    "### При выполнении работы допускается использование любых внешних модулей и пакетов."
   ]
  },
  {
   "cell_type": "markdown",
   "metadata": {},
   "source": [
    "#### Задача 1"
   ]
  },
  {
   "cell_type": "markdown",
   "metadata": {},
   "source": [
    "Дан список:"
   ]
  },
  {
   "cell_type": "code",
   "execution_count": null,
   "metadata": {},
   "outputs": [],
   "source": [
    "list_01 = [1, 1, 2, 3, 5, 8, 13, 21, 34, 55, 89, 144, 233, 377, 610, 14, 46, 273, 22, 99, 15, 1000]"
   ]
  },
  {
   "cell_type": "markdown",
   "metadata": {},
   "source": [
    "Напишите алгоритм, который выводит число, равное сумме элементов списка, которые больше 10, но меньше 100, и которые больше 200, но меньше 500."
   ]
  },
  {
   "cell_type": "code",
   "execution_count": 3,
   "metadata": {},
   "outputs": [
    {
     "name": "stdout",
     "output_type": "stream",
     "text": [
      "1291\n"
     ]
    }
   ],
   "source": [
    "list_01 = [1, 1, 2, 3, 5, 8, 13, 21, 34, 55, 89, 144, 233, 377, 610, 14, 46, 273, 22, 99, 15, 1000]\n",
    "\n",
    "print(sum([elem for elem in list_01 if 10 < elem < 100 or 200 < elem < 500]))"
   ]
  },
  {
   "cell_type": "markdown",
   "metadata": {},
   "source": [
    "#### Задача 2"
   ]
  },
  {
   "cell_type": "markdown",
   "metadata": {},
   "source": [
    "Дана строка:"
   ]
  },
  {
   "cell_type": "code",
   "execution_count": 4,
   "metadata": {},
   "outputs": [],
   "source": [
    "some_string = \"History is always written by the winners. When two cultures clash, the loser is obliterated, and the winner writes the history books - books which glorify their own cause and disparage the conquered foe. As Napoleon once said, 'What is history, but a fable agreed upon?'\""
   ]
  },
  {
   "cell_type": "markdown",
   "metadata": {},
   "source": [
    "Напишите функцию, которая будет принимать в качестве аргумента букву и выводить все слова из строки, начинающиеся на эту букву (например, “w”)."
   ]
  },
  {
   "cell_type": "code",
   "execution_count": 14,
   "metadata": {},
   "outputs": [
    {
     "name": "stdout",
     "output_type": "stream",
     "text": [
      "written\n",
      "winners\n",
      "when\n",
      "winner\n",
      "writes\n",
      "which\n",
      "what\n"
     ]
    }
   ],
   "source": [
    "import re\n",
    "def word_start_with(letter, some_string):\n",
    "    word_list = re.sub(r'[^\\w\\s]', '', some_string.lower()).strip().split()\n",
    "    for word in word_list:\n",
    "        if word[0] == letter:\n",
    "            print(word)\n",
    "    \n",
    "word_start_with('w', some_string)"
   ]
  },
  {
   "cell_type": "code",
   "execution_count": 5,
   "metadata": {},
   "outputs": [],
   "source": []
  },
  {
   "cell_type": "code",
   "execution_count": null,
   "metadata": {},
   "outputs": [],
   "source": []
  },
  {
   "cell_type": "code",
   "execution_count": null,
   "metadata": {},
   "outputs": [],
   "source": []
  },
  {
   "cell_type": "markdown",
   "metadata": {},
   "source": [
    "#### Задача 3"
   ]
  },
  {
   "cell_type": "markdown",
   "metadata": {},
   "source": [
    "Напишите функцию, которая генерирует случайную последовательность из 6 цифр, причем в этой последовательности должна быть как минимум одна цифра 3. Позиция 3 определяться случайным образом. Например: \"456379\" или \"033456\"."
   ]
  },
  {
   "cell_type": "code",
   "execution_count": 30,
   "metadata": {},
   "outputs": [
    {
     "data": {
      "text/plain": [
       "'430388'"
      ]
     },
     "execution_count": 30,
     "metadata": {},
     "output_type": "execute_result"
    }
   ],
   "source": [
    "import random\n",
    "numbers = [str(random.randint(0, 9)) for i in range(6)] \n",
    "numbers[random.randint(0, 5)] = '3'\n",
    "''.join(numbers)"
   ]
  },
  {
   "cell_type": "code",
   "execution_count": null,
   "metadata": {},
   "outputs": [],
   "source": []
  },
  {
   "cell_type": "code",
   "execution_count": null,
   "metadata": {},
   "outputs": [],
   "source": []
  },
  {
   "cell_type": "code",
   "execution_count": null,
   "metadata": {},
   "outputs": [],
   "source": []
  },
  {
   "cell_type": "markdown",
   "metadata": {},
   "source": [
    "#### Задача 4"
   ]
  },
  {
   "cell_type": "markdown",
   "metadata": {},
   "source": [
    "Данные студентов представлены в виде списка списков:"
   ]
  },
  {
   "cell_type": "code",
   "execution_count": 61,
   "metadata": {},
   "outputs": [],
   "source": [
    "students = [\n",
    "[\"0001\", \"Антонов\", \"Антон\", \"Игоревич\", \"20.08.2009\",\"БСТ161\"],\n",
    "[\"1102\", \"Богов\", \"Артем\", \"Игоревич\", \"25.01.2010\",\"БСТ162\"],\n",
    "[\"0333\", \"Глаголева\", \"Анастасия\", \"Николаевна\", \"11.07.2009\", \"БСТ163\"],\n",
    "[\"4004\", \"Степанова\", \"Наталья\", \"Александровна\", \"13.02.2008\", \"БСТ161\"],\n",
    "[\"0045\", \"Боков\", \"Игорь\", \"Харитонович\", \"02.06.2009\", \"БСТ161\"],\n",
    "[\"0096\", \"Васильков\", \"Валентин\", \"Сергеевич\", \"20.03.2009\", \"БСТ164\"],\n",
    "[\"0607\", \"Сиропова\", \"Виолетта\", \"Эдуардовна\", \"28.05.2010\", \"БСТ162\"],\n",
    "[\"4014\", \"Потапов\", \"Дмитрий\", \"Станиславович\", \"14.02.2012\", \"БСТ161\"]\n",
    "    ]"
   ]
  },
  {
   "cell_type": "markdown",
   "metadata": {},
   "source": [
    "1. Преобразуйте данные таким образом, чтобы они были представлены в виде словаря, в котором ключами являются номера студентов, а значениями — список из других данных о студентах."
   ]
  },
  {
   "cell_type": "code",
   "execution_count": 63,
   "metadata": {},
   "outputs": [
    {
     "name": "stdout",
     "output_type": "stream",
     "text": [
      "{'0001': ['Антонов', 'Антон', 'Игоревич', '20.08.2009', 'БСТ161'], '1102': ['Богов', 'Артем', 'Игоревич', '25.01.2010', 'БСТ162'], '0333': ['Глаголева', 'Анастасия', 'Николаевна', '11.07.2009', 'БСТ163'], '4004': ['Степанова', 'Наталья', 'Александровна', '13.02.2008', 'БСТ161'], '0045': ['Боков', 'Игорь', 'Харитонович', '02.06.2009', 'БСТ161'], '0096': ['Васильков', 'Валентин', 'Сергеевич', '20.03.2009', 'БСТ164'], '0607': ['Сиропова', 'Виолетта', 'Эдуардовна', '28.05.2010', 'БСТ162'], '4014': ['Потапов', 'Дмитрий', 'Станиславович', '14.02.2012', 'БСТ161']}\n"
     ]
    }
   ],
   "source": [
    "students_dict = {}\n",
    "\n",
    "for student in students:\n",
    "    students_dict[student[0]] = student[1:]\n",
    "    \n",
    "print(students_dict)"
   ]
  },
  {
   "cell_type": "code",
   "execution_count": null,
   "metadata": {},
   "outputs": [],
   "source": []
  },
  {
   "cell_type": "markdown",
   "metadata": {},
   "source": [
    "2. Напишите функцию, которая принимает номер группы и выводит пронумерованный и упорядоченный по алфавиту список (фамилии, имена, отчества) всех студентов этой группы. Необходимо обращаться к словарю."
   ]
  },
  {
   "cell_type": "code",
   "execution_count": 45,
   "metadata": {},
   "outputs": [
    {
     "name": "stdout",
     "output_type": "stream",
     "text": [
      "0 Волкова Галина Сергеевна\n"
     ]
    }
   ],
   "source": [
    "def fio_in_group(group):\n",
    "\n",
    "    fio_list = []\n",
    "\n",
    "    for key, value in students_dict.items():\n",
    "        if value[-1] == group:\n",
    "            fio_list.append(' '.join(value[0:3]))\n",
    "        \n",
    "    fio_list.sort()\n",
    "\n",
    "    for num, fio in enumerate(fio_list):\n",
    "        print(num, fio)\n",
    "    \n",
    "fio_in_group('БСТ100')"
   ]
  },
  {
   "cell_type": "code",
   "execution_count": 58,
   "metadata": {},
   "outputs": [
    {
     "name": "stdout",
     "output_type": "stream",
     "text": [
      "0001 - Волкова Галина Сергеевна 18.12.2022 БСТ100\n",
      "1102 - Богов Артем Игоревич 25.01.2010 БСТ162\n",
      "0333 - Глаголева Анастасия Николаевна 11.07.2009 БСТ163\n",
      "4004 - Степанова Наталья Александровна 13.02.2008 БСТ161\n",
      "0045 - Боков Игорь Харитонович 02.06.2009 БСТ161\n",
      "0096 - Васильков Валентин Сергеевич 20.03.2009 БСТ164\n",
      "0607 - Сиропова Виолетта Эдуардовна 28.05.2010 БСТ162\n",
      "4014 - Потапов Дмитрий Станиславович 14.02.2012 БСТ161\n"
     ]
    }
   ],
   "source": [
    "def fio_all():\n",
    "\n",
    "    fio_list = []\n",
    "\n",
    "    for key, value in students_dict.items():\n",
    "        print(f'{key} - {\" \".join(value)}')\n",
    "\n",
    "    \n",
    "fio_all()"
   ]
  },
  {
   "cell_type": "markdown",
   "metadata": {},
   "source": [
    "#### Задача 5"
   ]
  },
  {
   "cell_type": "markdown",
   "metadata": {},
   "source": [
    "Создайте класс Student, который создает объекты с данными о студентах (как в задаче 4). Класс должен иметь следующие методы: add_to_dict (добавляет объект в словарь из задачи 4), update_dict (обновляет запись о студенте в словаре из задачи 4), change_group (изменяет номер группы студента), change_id (изменяет номер студента) и print_date (выводит на экран данные студента)."
   ]
  },
  {
   "cell_type": "code",
   "execution_count": 126,
   "metadata": {},
   "outputs": [],
   "source": [
    "class Student:\n",
    "    def __init__(self, s_id, last_name, first_name, patronomic_name, date, group):\n",
    "        self.db_s_id = None\n",
    "        self.s_id = s_id\n",
    "        self.last_name = last_name\n",
    "        self.first_name = first_name\n",
    "        self.patronomic_name = patronomic_name\n",
    "        self.date = date\n",
    "        self.group = group\n",
    "        \n",
    "        \n",
    "    def add_to_dict(self):\n",
    "        students_dict[self.s_id] = [self.last_name, self.first_name, self.patronomic_name, self.date, self.group]\n",
    "        self.db_s_id = self.s_id\n",
    "        \n",
    "    def update_dict(self):\n",
    "        if self.db_s_id is not None:\n",
    "            if self.db_s_id != self.s_id:\n",
    "                students_dict.pop(self.db_s_id)\n",
    "            \n",
    "            self.add_to_dict()\n",
    "        \n",
    "    def change_group(self, new_group):\n",
    "        self.group = new_group\n",
    "        \n",
    "    def change_id(self, new_id):\n",
    "        self.s_id = new_id\n",
    "        \n",
    "    def print_data(self):\n",
    "         print(self.s_id, self.last_name, self.first_name, self.patronomic_name, self.date, self.group)\n",
    "      "
   ]
  },
  {
   "cell_type": "markdown",
   "metadata": {},
   "source": [
    "1. Создайте объект класса, добавьте его в словарь. Обновленный словарь выведете на экран."
   ]
  },
  {
   "cell_type": "code",
   "execution_count": 118,
   "metadata": {},
   "outputs": [],
   "source": [
    "volkova = Student('0001', 'Волкова', 'Галина', 'Сергеевна', '18.12.2022', 'БСТ100')"
   ]
  },
  {
   "cell_type": "code",
   "execution_count": 64,
   "metadata": {},
   "outputs": [
    {
     "name": "stdout",
     "output_type": "stream",
     "text": [
      "0001 - Антонов Антон Игоревич 20.08.2009 БСТ161\n",
      "1102 - Богов Артем Игоревич 25.01.2010 БСТ162\n",
      "0333 - Глаголева Анастасия Николаевна 11.07.2009 БСТ163\n",
      "4004 - Степанова Наталья Александровна 13.02.2008 БСТ161\n",
      "0045 - Боков Игорь Харитонович 02.06.2009 БСТ161\n",
      "0096 - Васильков Валентин Сергеевич 20.03.2009 БСТ164\n",
      "0607 - Сиропова Виолетта Эдуардовна 28.05.2010 БСТ162\n",
      "4014 - Потапов Дмитрий Станиславович 14.02.2012 БСТ161\n"
     ]
    }
   ],
   "source": [
    "fio_all()"
   ]
  },
  {
   "cell_type": "code",
   "execution_count": 125,
   "metadata": {},
   "outputs": [
    {
     "name": "stdout",
     "output_type": "stream",
     "text": [
      "0004 Волкова Галина Сергеевна 18.12.2022 БСТ100\n",
      "--\n",
      "1102 - Богов Артем Игоревич 25.01.2010 БСТ162\n",
      "0333 - Глаголева Анастасия Николаевна 11.07.2009 БСТ163\n",
      "4004 - Степанова Наталья Александровна 13.02.2008 БСТ161\n",
      "0045 - Боков Игорь Харитонович 02.06.2009 БСТ161\n",
      "0096 - Васильков Валентин Сергеевич 20.03.2009 БСТ164\n",
      "0607 - Сиропова Виолетта Эдуардовна 28.05.2010 БСТ162\n",
      "4014 - Потапов Дмитрий Станиславович 14.02.2012 БСТ161\n",
      "0003 - Волкова Галина Сергеевна 18.12.2022 БСТ100\n",
      "0004 - Волкова Галина Сергеевна 18.12.2022 БСТ100\n"
     ]
    }
   ],
   "source": [
    "\n",
    "\n",
    "volkova.change_id('0004')\n",
    "\n",
    "#volkova.change_group('БСТ163')\n",
    "volkova.add_to_dict()\n",
    "#volkova.update_dict()\n",
    "\n",
    "\n",
    "\n",
    "volkova.print_data()\n",
    "print('--')\n",
    "fio_all()"
   ]
  },
  {
   "cell_type": "code",
   "execution_count": 117,
   "metadata": {},
   "outputs": [
    {
     "name": "stdout",
     "output_type": "stream",
     "text": [
      "1102 - Богов Артем Игоревич 25.01.2010 БСТ162\n",
      "0333 - Глаголева Анастасия Николаевна 11.07.2009 БСТ163\n",
      "4004 - Степанова Наталья Александровна 13.02.2008 БСТ161\n",
      "0045 - Боков Игорь Харитонович 02.06.2009 БСТ161\n",
      "0096 - Васильков Валентин Сергеевич 20.03.2009 БСТ164\n",
      "0607 - Сиропова Виолетта Эдуардовна 28.05.2010 БСТ162\n",
      "4014 - Потапов Дмитрий Станиславович 14.02.2012 БСТ161\n"
     ]
    }
   ],
   "source": [
    "students_dict.pop('222')\n",
    "fio_all()"
   ]
  },
  {
   "cell_type": "code",
   "execution_count": null,
   "metadata": {},
   "outputs": [],
   "source": []
  },
  {
   "cell_type": "markdown",
   "metadata": {},
   "source": [
    "2. Измените номер группы студентки Волковой на 'БСТ161' и выведите обновленный список группы."
   ]
  },
  {
   "cell_type": "code",
   "execution_count": null,
   "metadata": {},
   "outputs": [],
   "source": []
  },
  {
   "cell_type": "code",
   "execution_count": null,
   "metadata": {},
   "outputs": [],
   "source": []
  },
  {
   "cell_type": "code",
   "execution_count": null,
   "metadata": {},
   "outputs": [],
   "source": []
  },
  {
   "cell_type": "code",
   "execution_count": null,
   "metadata": {},
   "outputs": [],
   "source": []
  },
  {
   "cell_type": "markdown",
   "metadata": {},
   "source": [
    "#### Задача 6"
   ]
  },
  {
   "cell_type": "markdown",
   "metadata": {},
   "source": [
    "Дана матрица matrix. Напишите код, который будет транспонировать её (то есть, делать из строк столбцы) в maytix_t:\n",
    "\n",
    "matrix_t = [\n",
    "    [0, 6, 3, 4, 5],\n",
    "    [1, 2, 3, 6, 7],\n",
    "    [2, 2, 3, 7, 3],\n",
    "    [4, 1, 3, 1, 4],\n",
    "    [8, 9, 3, 2, 0]\n",
    "]"
   ]
  },
  {
   "cell_type": "code",
   "execution_count": 48,
   "metadata": {},
   "outputs": [],
   "source": [
    "matrix = [ \n",
    "    [0,1,2,4,8], \n",
    "    [6,2,2,1,9], \n",
    "    [3,3,3,3,3], \n",
    "    [4,6,7,1,2], \n",
    "    [5,7,3,4,0] \n",
    "]"
   ]
  },
  {
   "cell_type": "code",
   "execution_count": 54,
   "metadata": {},
   "outputs": [
    {
     "name": "stdout",
     "output_type": "stream",
     "text": [
      "[[0, 6, 3, 4, 5], [1, 2, 3, 6, 7], [2, 2, 3, 7, 3], [4, 1, 3, 1, 4], [8, 9, 3, 2, 0]]\n"
     ]
    }
   ],
   "source": [
    "matrix_t = [list(range(0, len(matrix))) for i in range(0, len(matrix[0]))]\n",
    "\n",
    "for i, line in enumerate(matrix):\n",
    "    for j, elem in enumerate(line):\n",
    "        matrix_t[j][i] = elem\n",
    "        \n",
    "print(matrix_t)"
   ]
  },
  {
   "cell_type": "code",
   "execution_count": null,
   "metadata": {},
   "outputs": [],
   "source": []
  },
  {
   "cell_type": "code",
   "execution_count": null,
   "metadata": {},
   "outputs": [],
   "source": []
  }
 ],
 "metadata": {
  "kernelspec": {
   "display_name": "Python 3 (ipykernel)",
   "language": "python",
   "name": "python3"
  },
  "language_info": {
   "codemirror_mode": {
    "name": "ipython",
    "version": 3
   },
   "file_extension": ".py",
   "mimetype": "text/x-python",
   "name": "python",
   "nbconvert_exporter": "python",
   "pygments_lexer": "ipython3",
   "version": "3.9.13"
  }
 },
 "nbformat": 4,
 "nbformat_minor": 2
}
