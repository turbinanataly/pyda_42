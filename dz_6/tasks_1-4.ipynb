{
 "cells": [
  {
   "cell_type": "markdown",
   "id": "8954b021",
   "metadata": {},
   "source": [
    "# Задание 1"
   ]
  },
  {
   "cell_type": "markdown",
   "id": "f0d4d001",
   "metadata": {},
   "source": [
    "Печатные газеты использовали свой формат дат для каждого выпуска. Для каждой газеты из списка напишите формат указанной даты для перевода в объект datetime:\n",
    "\n",
    "- The Moscow Times — Wednesday, October 2, 2002\n",
    "- The Guardian — Friday, 11.10.13\n",
    "- Daily News — Thursday, 18 August 1977"
   ]
  },
  {
   "cell_type": "code",
   "execution_count": null,
   "id": "6c192b7e",
   "metadata": {},
   "outputs": [],
   "source": [
    "# %#d - работает только на windows. Без допобработки (только форматом), не нашла, как сделать день без 0 в начале. \n",
    "\n",
    "from datetime import datetime as dt\n",
    "newspapers = {\n",
    "    'The Moscow Times': '%A, %B %#d, %Y',\n",
    "    'The Guardian': ' %A, %d.%m.%y',\n",
    "    'Daily News': '%A, %d %B %Y'\n",
    "}\n",
    "\n",
    "date = dt(2013, 10, 2)\n",
    "\n",
    "for newspaper, format_date in newspapers.items():\n",
    "    print(f'{newspaper}: ', dt.strftime(date, format_date))"
   ]
  },
  {
   "cell_type": "markdown",
   "id": "9af7e18e",
   "metadata": {},
   "source": [
    "# Задание 2"
   ]
  },
  {
   "cell_type": "markdown",
   "id": "0999d8bb",
   "metadata": {},
   "source": [
    "Дан поток дат в формате YYYY-MM-DD, в которых встречаются некорректные значения:\n",
    "stream = ['2018-04-02', '2018-02-29', '2018-19-02']\n",
    "\n",
    "Напишите функцию, которая проверяет эти даты на корректность. То есть для каждой даты возвращает True — дата корректна или False — некорректная."
   ]
  },
  {
   "cell_type": "code",
   "execution_count": null,
   "id": "e189fb0d",
   "metadata": {},
   "outputs": [],
   "source": [
    "from datetime import datetime as dt\n",
    "\n",
    "stream = ['2018-04-02', '2018-02-29', '2018-19-02']\n",
    "\n",
    "def check_date(strdate):\n",
    "    try:\n",
    "        date = dt.strptime(strdate, '%Y-%m-%d')\n",
    "        return True\n",
    "    except ValueError:\n",
    "        return False\n",
    "    \n",
    "for strdate in stream:\n",
    "    print(f'{strdate}: {check_date(strdate)}')"
   ]
  },
  {
   "cell_type": "markdown",
   "id": "485f1f67",
   "metadata": {},
   "source": [
    "# Задание 3"
   ]
  },
  {
   "cell_type": "markdown",
   "id": "2bd72ca2",
   "metadata": {},
   "source": [
    "Напишите функцию date_range, которая возвращает список дат за период от start_date до end_date. Даты должны вводиться в формате YYYY-MM-DD. В случае неверного формата или при start_date > end_date должен возвращаться пустой список."
   ]
  },
  {
   "cell_type": "code",
   "execution_count": null,
   "id": "adfe22af",
   "metadata": {},
   "outputs": [],
   "source": [
    "from datetime import datetime as dt\n",
    "from datetime import timedelta\n",
    "\n",
    "date_format = '%Y-%m-%d'\n",
    "\n",
    "def date_range(start, end):\n",
    "    '''\n",
    "    Выводит список всех дат от start до end включяя start и and  \n",
    "    '''\n",
    "    \n",
    "    curr_date = None\n",
    "    end_date = None\n",
    "    \n",
    "    try:\n",
    "        curr_date = dt.strptime(start, date_format)\n",
    "        end_date = dt.strptime(end, date_format)\n",
    "    except ValueError:\n",
    "        return []\n",
    "        \n",
    "    if curr_date > end_date:\n",
    "        return []\n",
    "    \n",
    "    dates = []\n",
    "    while curr_date <= end_date:\n",
    "        dates.append(curr_date.strftime(date_format))\n",
    "        curr_date += timedelta(days=1)\n",
    "        \n",
    "    return dates\n",
    "    \n",
    "#print(date_range('2022-10-22', '2022-11-03'))\n",
    "#print(date_range('2022-10-22', '2022-10-22'))\n",
    "#print(date_range('2022-11-03', '2022-10-22'))\n",
    "\n",
    "print(date_range('2022-10-22', '2022-11-03s'))\n"
   ]
  },
  {
   "cell_type": "markdown",
   "id": "8e61e4c1",
   "metadata": {},
   "source": [
    "# Задание 4"
   ]
  },
  {
   "cell_type": "code",
   "execution_count": null,
   "id": "d74ffda7",
   "metadata": {},
   "outputs": [],
   "source": [
    "#Коллега написал код: \n",
    "DEFAULT_USER_COUNT = 3\n",
    "\n",
    "def delete_and_return_last_user(region, default_list=['A100', 'A101', 'A102']):\n",
    "    \"\"\"\n",
    "    Удаляет из списка default_list последнего пользователя\n",
    "    и возвращает ID нового последнего пользователя.\n",
    "    \"\"\"\n",
    "    \n",
    "    element_to_delete = default_list[-1]\n",
    "    default_list.remove(element_to_delete)\n",
    "    print(len(default_list))\n",
    "    return default_list[DEFAULT_USER_COUNT-2]\n"
   ]
  },
  {
   "cell_type": "code",
   "execution_count": null,
   "id": "60cc02bd",
   "metadata": {},
   "outputs": [],
   "source": [
    "delete_and_return_last_user(1)"
   ]
  },
  {
   "cell_type": "markdown",
   "id": "8dace800",
   "metadata": {},
   "source": [
    "1. Что значит ошибка list index out of range?\n",
    "\n",
    "То, что мы обратились к индексу списка, которого в реальности не существует (например по индексу 3 в списке из 1 элемента)"
   ]
  },
  {
   "cell_type": "markdown",
   "id": "9ff792d9",
   "metadata": {},
   "source": [
    "2. Почему при первом запуске функция работает корректно, а при втором — нет?\n",
    "\n",
    "Потому, что при первом вызове у нас на момент строчки с default_list[DEFAULT_USER_COUNT-2] \n",
    "в листе default_list 2 элемента (с индексами 0, 1) и элемент с индексом DEFAULT_USER_COUNT-2 существует,\n",
    "в при вором вызове на момент строчки с default_list[DEFAULT_USER_COUNT-2] у нас в листе default_list 1 элемент с индексом 0.\n",
    "Мы пытаемся обратиться элементу с индексом 1 и падаем с list index out of range"
   ]
  },
  {
   "cell_type": "code",
   "execution_count": null,
   "id": "e64df8ba",
   "metadata": {},
   "outputs": [],
   "source": []
  }
 ],
 "metadata": {
  "kernelspec": {
   "display_name": "Python 3 (ipykernel)",
   "language": "python",
   "name": "python3"
  },
  "language_info": {
   "codemirror_mode": {
    "name": "ipython",
    "version": 3
   },
   "file_extension": ".py",
   "mimetype": "text/x-python",
   "name": "python",
   "nbconvert_exporter": "python",
   "pygments_lexer": "ipython3",
   "version": "3.9.13"
  }
 },
 "nbformat": 4,
 "nbformat_minor": 5
}
