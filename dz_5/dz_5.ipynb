{
 "cells": [
  {
   "cell_type": "markdown",
   "id": "b1b6c5e6",
   "metadata": {},
   "source": [
    "# Задание"
   ]
  },
  {
   "cell_type": "markdown",
   "id": "48c9ed7d",
   "metadata": {},
   "source": [
    "- Переведите содержимое файла purchase_log.txt в словарь purchases вида:\n",
    "{‘1840e0b9d4’: ‘Продукты’, …}\n",
    "\n",
    "- Для каждого user_id в файле visit_log.csv определите третий столбец с категорией покупки, если покупка была, сам файл visit_log.csv изменять не надо. Запишите в файл funnel.csv визиты из файла visit_log.csv, в которых были покупки с указанием категории.\n",
    "\n",
    "\n",
    "Учтите условия на данные:\n",
    "содержимое purchase_log.txt помещается в оперативную память компьютера;\n",
    "содержимое visit_log.csv — нет; используйте только построчную обработку этого файла."
   ]
  },
  {
   "cell_type": "markdown",
   "id": "dcd19c88",
   "metadata": {},
   "source": [
    "# Решение"
   ]
  },
  {
   "cell_type": "code",
   "execution_count": null,
   "id": "8e177558",
   "metadata": {},
   "outputs": [],
   "source": [
    "import json\n",
    "\n",
    "\n",
    "def load_purchases(purchase_log_path):\n",
    "    ''' \n",
    "    Загружаем данные о покупках их файла purchase_log_path в словарь\n",
    "    '''\n",
    "    purchases = {}\n",
    "\n",
    "    # Положим, что файлы с данными лежат в папке data, которая лежит рядом с файлом программы.\n",
    "    # (в github тоже их добавим, для полной картины)\n",
    "    purchase_log = open(purchase_log_path, 'r', encoding='Utf-8')\n",
    "\n",
    "    # Пропускаем строку с заголовком\n",
    "    purchase_log.readline()\n",
    "\n",
    "    for line in purchase_log:\n",
    "        purcha = json.loads(line)\n",
    "        purchases.setdefault(purcha['user_id'], [])\n",
    "        purchases[purcha['user_id']].append(purcha['category'])\n",
    "    \n",
    "    purchase_log.close()\n",
    "    \n",
    "    return purchases\n",
    "\n",
    "def write_visits_with_purchases(purchase_log_path, visit_log_path, funnel_path):\n",
    "    '''\n",
    "    Записывает в файл funnel_path только те визиты из visit_log_path, \n",
    "    в которых были покупки из purchase_log_path\n",
    "    и добавляет информацию о категориях покупок\n",
    "    '''\n",
    "    purchases = load_purchases(purchase_log_path)\n",
    "    \n",
    "    visit_log = open(visit_log_path, 'r', encoding='Utf-8')\n",
    "    \n",
    "    # Пропускаем строку с заголовком\n",
    "    visit_log.readline()\n",
    "    \n",
    "    count_write_lines = 0\n",
    "    \n",
    "    with open(funnel_path, 'w', encoding='Utf-8') as funnel:\n",
    "        \n",
    "        for line in visit_log:\n",
    "            \n",
    "            user_id, source = line.strip().split(',')\n",
    "            user_id = user_id.strip()\n",
    "            \n",
    "            if user_id in purchases:\n",
    "                for category in purchases[user_id]:\n",
    "                    funnel.write(f'{user_id},{source},{category}\\n')\n",
    "                    count_write_lines += 1\n",
    "                \n",
    "    visit_log.close()\n",
    "    print(f'Записали в файл {funnel_path} {count_write_lines} строк о визитах c категорией покупки.')\n",
    "\n",
    "def main():\n",
    "    purchase_log_path = 'data/purchase_log.txt'\n",
    "    visit_log_path = 'data/visit_log.csv'\n",
    "    funnel_path = 'data/funnel.csv'\n",
    "    \n",
    "    write_visits_with_purchases(purchase_log_path, visit_log_path, funnel_path)\n",
    "\n",
    "main()"
   ]
  },
  {
   "cell_type": "code",
   "execution_count": null,
   "id": "5b0cf1f4",
   "metadata": {},
   "outputs": [],
   "source": []
  },
  {
   "cell_type": "code",
   "execution_count": null,
   "id": "8a875b69",
   "metadata": {},
   "outputs": [],
   "source": []
  }
 ],
 "metadata": {
  "kernelspec": {
   "display_name": "Python 3 (ipykernel)",
   "language": "python",
   "name": "python3"
  },
  "language_info": {
   "codemirror_mode": {
    "name": "ipython",
    "version": 3
   },
   "file_extension": ".py",
   "mimetype": "text/x-python",
   "name": "python",
   "nbconvert_exporter": "python",
   "pygments_lexer": "ipython3",
   "version": "3.9.13"
  }
 },
 "nbformat": 4,
 "nbformat_minor": 5
}
