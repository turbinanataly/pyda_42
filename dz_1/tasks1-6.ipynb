{
 "cells": [
  {
   "cell_type": "markdown",
   "id": "711e3eed",
   "metadata": {},
   "source": [
    "# Задание 1"
   ]
  },
  {
   "cell_type": "markdown",
   "id": "59f5978c",
   "metadata": {},
   "source": [
    "## Условие"
   ]
  },
  {
   "cell_type": "markdown",
   "id": "af624a34",
   "metadata": {},
   "source": [
    "Даны 2 переменных, в которых хранятся строки произвольной длины: phrase_1 и phrase_2.\n",
    "Напишите код, который проверяет какая из этих строк длиннее."
   ]
  },
  {
   "cell_type": "markdown",
   "id": "24fd4a5d",
   "metadata": {},
   "source": [
    "## Решеие"
   ]
  },
  {
   "cell_type": "code",
   "execution_count": 20,
   "id": "3f0544bc",
   "metadata": {
    "scrolled": true
   },
   "outputs": [
    {
     "name": "stdout",
     "output_type": "stream",
     "text": [
      "Введите фразу 1: фыфы\n",
      "Введите фразу 2: фф\n",
      "Фраза 1 длиннее фразы 2.\n"
     ]
    }
   ],
   "source": [
    "phrase_1 = input(\"Введите фразу 1: \")\n",
    "phrase_2 = input(\"Введите фразу 2: \")\n",
    "\n",
    "len_phrase_1 = len(phrase_1)\n",
    "len_phrase_2 = len(phrase_2)\n",
    "\n",
    "if len_phrase_1 > len_phrase_2:\n",
    "    print(\"Фраза 1 длиннее фразы 2\")\n",
    "elif len_phrase_2 > len_phrase_1:\n",
    "    print(\"Фраза 2 длиннее фразы 1\")\n",
    "else:\n",
    "    print(\"Фразы равной длины\")"
   ]
  },
  {
   "cell_type": "markdown",
   "id": "9f0f917a",
   "metadata": {},
   "source": [
    "# Задание 2"
   ]
  },
  {
   "cell_type": "markdown",
   "id": "d4e93db8",
   "metadata": {},
   "source": [
    "## Условие"
   ]
  },
  {
   "cell_type": "markdown",
   "id": "10ccc981",
   "metadata": {},
   "source": [
    "Дана переменная, в которой хранится число (год). Необходимо написать программу, которая выведет, является ли данный год високосным или обычным.\n",
    "\n",
    "Будем считать, что отрицательный год тоже правильный - просто до нашей эры"
   ]
  },
  {
   "cell_type": "markdown",
   "id": "43abc649",
   "metadata": {},
   "source": [
    "## Решение "
   ]
  },
  {
   "cell_type": "code",
   "execution_count": 10,
   "id": "dba9935e",
   "metadata": {},
   "outputs": [
    {
     "name": "stdout",
     "output_type": "stream",
     "text": [
      "Введите год: 2019\n",
      "Обычный год\n"
     ]
    }
   ],
   "source": [
    "year = int(input(\"Введите год: \"))\n",
    "\n",
    "if year % 4 == 0:\n",
    "    print(\"Високосный год\")\n",
    "else:\n",
    "    print(\"Обычный год\")"
   ]
  },
  {
   "cell_type": "markdown",
   "id": "86be85b6",
   "metadata": {},
   "source": [
    "# Задание 3"
   ]
  },
  {
   "cell_type": "markdown",
   "id": "cfc4b4b0",
   "metadata": {},
   "source": [
    "## Условие "
   ]
  },
  {
   "cell_type": "markdown",
   "id": "c6f59f01",
   "metadata": {},
   "source": [
    "Необходимо написать программу, которая будет запрашивать у пользователя месяц и дату рождения и выводить соответствующий знак зодиака."
   ]
  },
  {
   "cell_type": "markdown",
   "id": "26e6c0ea",
   "metadata": {},
   "source": [
    "## Решение "
   ]
  },
  {
   "cell_type": "code",
   "execution_count": 24,
   "id": "643adb71",
   "metadata": {},
   "outputs": [
    {
     "name": "stdout",
     "output_type": "stream",
     "text": [
      "Введите месяц: Март\n",
      "Введите день: 9\n",
      "Рыбы\n"
     ]
    }
   ],
   "source": [
    "month = input(\"Введите месяц: \")\n",
    "day = int(input(\"Введите день: \"))\n",
    "\n",
    "if (month == \"Декабрь\" and day >= 22 and day <= 31) or (month == \"Январь\" and day >= 1 and day <= 20):\n",
    "    print(\"Казерог\")\n",
    "    \n",
    "elif (month == \"Январь\" and day >= 21 and day <= 31) or (month == \"Февраль\" and day >= 1 and day <= 18):\n",
    "    print(\"Водолей\")\n",
    "    \n",
    "elif (month == \"Февраль\" and day >= 19 and day <= 29) or (month == \"Март\" and day >= 1 and day <= 20):\n",
    "    print(\"Рыбы\")\n",
    "    \n",
    "elif (month == \"Март\" and day >= 21 and day <= 31) or (month == \"Апрель\" and day >= 1 and day <= 20):\n",
    "    print(\"Овен\")\n",
    "    \n",
    "elif (month == \"Апрель\" and day >= 21 and day <= 30) or (month == \"Май\" and day >= 1 and day <= 21):\n",
    "    print(\"Телец\")\n",
    "    \n",
    "elif (month == \"Май\" and day >= 22 and day <= 31) or (month == \"Июнь\" and day >= 1 and day <= 21):\n",
    "    print(\"Близнецы\")\n",
    "    \n",
    "elif (month == \"Июнь\" and day >= 22 and day <= 30) or (month == \"Июль\" and day >= 1 and day <= 22):\n",
    "    print(\"Рак\")\n",
    "    \n",
    "elif (month == \"Июль\" and day >= 23 and day <= 31) or (month == \"Август\" and day >= 1 and day <= 23):\n",
    "    print(\"Лев\")\n",
    "    \n",
    "elif (month == \"Август\" and day >= 24 and day <= 31) or (month == \"Сентябрь\" and day >= 1 and day <= 22):\n",
    "    print(\"Дева\")\n",
    "    \n",
    "elif (month == \"Сентябрь\" and day >= 23 and day <= 30) or (month == \"Октябрь\" and day >= 1 and day <= 23):\n",
    "    print(\"Весы\")\n",
    "    \n",
    "elif (month == \"Октябрь\" and day >= 24 and day <= 31) or (month == \"Ноябрь\" and day >= 1 and day <= 22):\n",
    "    print(\"Скорпион\")\n",
    "    \n",
    "elif (month == \"Ноябрь\" and day >= 23 and day <= 30) or (month == \"Декабрь\" and day >= 1 and day <= 21):\n",
    "    print(\"Стрелец\")\n",
    "    \n",
    "else:\n",
    "    print(\"Неверный ввод\")\n",
    "    "
   ]
  },
  {
   "cell_type": "markdown",
   "id": "ee836cd7",
   "metadata": {},
   "source": [
    "# Задание 4"
   ]
  },
  {
   "cell_type": "markdown",
   "id": "bf78348d",
   "metadata": {},
   "source": [
    "## Условие "
   ]
  },
  {
   "cell_type": "markdown",
   "id": "183cd6b7",
   "metadata": {},
   "source": [
    "Вам нужно написать программу для подбора упаковок по размерам товара. Размеры (ширина, длина, высота) хранятся в переменных (в сантиметрах):\n",
    "\n",
    "Используйте следующие правила:\n",
    "\n",
    "- если каждое из трех измерений менее или равно 15 сантиметрам, то выведите на экран \"Коробка №1\";\n",
    "- если хотя бы одно из измерений больше 2 метров, то выводите \"Упаковка для лыж\";\n",
    "- если хотя бы одно из измерений больше 15 сантиметров, но менее 50 сантиметров, то выводите \"Коробка №2\";\n",
    "- во всех остальных случаях выводите \"Коробка №3\"."
   ]
  },
  {
   "cell_type": "markdown",
   "id": "7eca2c15",
   "metadata": {},
   "source": [
    "## Решение"
   ]
  },
  {
   "cell_type": "code",
   "execution_count": null,
   "id": "866189ed",
   "metadata": {},
   "outputs": [],
   "source": [
    "width = int(input(\"Ведите ширину: \"))\n",
    "length = int(input(\"Ведите длинну: \"))\n",
    "height = int(input(\"Ведите высоту: \"))\n",
    "\n",
    "if width <= 0 or length <= 0 or height <= 0:\n",
    "    print(\"Все измерения должны быть больше 0 см\")\n",
    "    \n",
    "elif width <= 15 and length <= 15 and height <= 15:\n",
    "    print(\"Коробка №1\")\n",
    "    \n",
    "elif width > 200 or length  > 200 or height  > 200:\n",
    "    print(\"Упаковка для лыж\")\n",
    "    \n",
    "elif (width > 15 and width < 50) or (length > 15 and length < 50) or (height > 15 and height < 50):\n",
    "    print(\"Коробка №2\")\n",
    "    \n",
    "else:\n",
    "    print(\"Коробка №3\")"
   ]
  },
  {
   "cell_type": "markdown",
   "id": "cbc94827",
   "metadata": {},
   "source": [
    "# Задание 5"
   ]
  },
  {
   "cell_type": "markdown",
   "id": "d64d6e0c",
   "metadata": {},
   "source": [
    "## Условие"
   ]
  },
  {
   "cell_type": "markdown",
   "id": "32a43d81",
   "metadata": {},
   "source": [
    "Дана переменная, в которой хранится шестизначное число (номер проездного билета). Напишите программу, которая будет определять, является ли данный билет \"счастливым\". Билет считается счастливым, если сумма первых трех цифр совпадает с суммой последних трех цифр номера."
   ]
  },
  {
   "cell_type": "markdown",
   "id": "2a0ba0ca",
   "metadata": {},
   "source": [
    "## Решение"
   ]
  },
  {
   "cell_type": "code",
   "execution_count": 3,
   "id": "027c84b2",
   "metadata": {},
   "outputs": [
    {
     "name": "stdout",
     "output_type": "stream",
     "text": [
      "Введите номер билета: 123321\n",
      "Счастливый билет\n"
     ]
    }
   ],
   "source": [
    "nomber = int(input(\"Введите номер билета: \"))\n",
    "\n",
    "#Если номер меньше 100 000, то первые знаки в номере билета нули.\n",
    "if nomber < 0 or nomber > 999999:\n",
    "    print(\"Некорректный ввод. Номер должнен быть положительным числом не более 6 знаков.\")\n",
    "    \n",
    "else:\n",
    "    sum1 = (nomber // 100000) + ((nomber % 100000) // 10000) + ((nomber % 10000) // 1000)\n",
    "    sum2 = ((nomber % 1000) // 100) + ((nomber % 100) // 10) + (nomber % 10)\n",
    "    \n",
    "    if sum1 == sum2:\n",
    "        print(\"Счастливый билет\")\n",
    "    else: \n",
    "        print(\"Несчастливый билет\") "
   ]
  },
  {
   "cell_type": "markdown",
   "id": "fc2536ec",
   "metadata": {},
   "source": [
    "# Задание 6 "
   ]
  },
  {
   "cell_type": "markdown",
   "id": "00911aed",
   "metadata": {},
   "source": [
    "## Условие "
   ]
  },
  {
   "cell_type": "markdown",
   "id": "4ad03310",
   "metadata": {},
   "source": [
    "Напишите программу, которая сможет вычислять площади трех фигур (круг, треугольник и прямоугольник). Тип фигуры запрашиваем через пользовательский ввод, после чего делаем запрос характеристик фигуры:\n",
    "\n",
    "- если пользователь выбрал круг, запрашиваем его радиус,\n",
    "- если треугольник – длины трех его сторон;\n",
    "- если прямоугольник – длины двух его сторон."
   ]
  },
  {
   "cell_type": "markdown",
   "id": "c1588636",
   "metadata": {},
   "source": [
    "## Решение "
   ]
  },
  {
   "cell_type": "code",
   "execution_count": 20,
   "id": "5fda3c47",
   "metadata": {},
   "outputs": [
    {
     "name": "stdout",
     "output_type": "stream",
     "text": [
      "Введите тип фигуры: Треугольник\n",
      "Введите длину стороны a: 2\n",
      "Введите длину стороны b: 2\n",
      "Введите длину стороны c: 3\n",
      "Треугольник имеет площадь  1.98\n"
     ]
    }
   ],
   "source": [
    "shape_type = input(\"Введите тип фигуры: \")\n",
    "\n",
    "if shape_type == \"Круг\":\n",
    "        radius = int(input(\"Введите радиус: \"))\n",
    "        \n",
    "        if radius <= 0:\n",
    "            print(\"Некорректный ввод. Радиус должен быть положительным.\")\n",
    "        else:\n",
    "            square = 3.14 * (radius ** 2)\n",
    "            print(f\"{shape_type} имеет площадь {square: .2f}\")\n",
    "            \n",
    "elif shape_type == \"Треугольник\": \n",
    "        a = int(input(\"Введите длину стороны a: \"))\n",
    "        b = int(input(\"Введите длину стороны b: \"))\n",
    "        c = int(input(\"Введите длину стороны c: \"))\n",
    "        \n",
    "        if a <= 0 or b <= 0 or c <= 0:\n",
    "            print(\"Некорректный ввод. Длины всех сторон должны быть положительными.\")\n",
    "        elif (a >= b + c) or (b >= a + c) or (c >= a + b):\n",
    "            print(\"Некорректный ввод. Треугольник существует только тогда, когда сумма двух его сторон больше третьей.\")\n",
    "        else:\n",
    "            p = (a + b + c) / 2\n",
    "            square = (p * (p - a) * (p - b) * (p - c)) ** 0.5\n",
    "            print(f\"{shape_type} имеет площадь {square: .2f}\")\n",
    "        \n",
    "elif shape_type == \"Прямоугольник\":\n",
    "        a = int(input(\"Введите длину стороны a: \"))\n",
    "        b = int(input(\"Введите длину стороны b: \"))\n",
    "        \n",
    "        if a <= 0 or b <= 0:\n",
    "            print(\"Некорректный ввод. Длины всех сторон должны быть положительными.\")\n",
    "        else:\n",
    "            square = a * b\n",
    "            print(f\"{shape_type} имеет площадь {square: .2f}\")\n",
    "else:\n",
    "    print(\"Некорректный ввод.\")"
   ]
  },
  {
   "cell_type": "code",
   "execution_count": null,
   "id": "7e88c064",
   "metadata": {},
   "outputs": [],
   "source": []
  }
 ],
 "metadata": {
  "kernelspec": {
   "display_name": "Python 3 (ipykernel)",
   "language": "python",
   "name": "python3"
  },
  "language_info": {
   "codemirror_mode": {
    "name": "ipython",
    "version": 3
   },
   "file_extension": ".py",
   "mimetype": "text/x-python",
   "name": "python",
   "nbconvert_exporter": "python",
   "pygments_lexer": "ipython3",
   "version": "3.9.13"
  }
 },
 "nbformat": 4,
 "nbformat_minor": 5
}
